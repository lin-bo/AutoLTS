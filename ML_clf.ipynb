{
 "cells": [
  {
   "cell_type": "code",
   "execution_count": 10,
   "id": "a15449c3",
   "metadata": {},
   "outputs": [],
   "source": [
    "import numpy as np\n",
    "import geopandas as gpd\n",
    "import pandas as pd\n",
    "\n",
    "from sklearn.tree import DecisionTreeClassifier\n",
    "from sklearn.ensemble import RandomForestClassifier\n",
    "\n",
    "from sklearn.model_selection import GridSearchCV\n",
    "from sklearn.metrics import confusion_matrix\n",
    "from sklearn.tree import export_graphviz\n",
    "from IPython.display import SVG\n",
    "from graphviz import Source"
   ]
  },
  {
   "cell_type": "code",
   "execution_count": 220,
   "id": "94cf1688",
   "metadata": {},
   "outputs": [],
   "source": [
    "def missing_and_unique(df, col):\n",
    "    n_missing = df[col].isna().sum()\n",
    "    unique_vals = df[col].unique()\n",
    "    print(f'Number of missing values: {n_missing}')\n",
    "    print(f'Number of unique values: {len(unique_vals)}')\n",
    "    print('They are:', unique_vals)"
   ]
  },
  {
   "cell_type": "markdown",
   "id": "4d215af6",
   "metadata": {},
   "source": [
    "# Pre-Processing"
   ]
  },
  {
   "cell_type": "code",
   "execution_count": 221,
   "id": "45026e97",
   "metadata": {},
   "outputs": [],
   "source": [
    "# read files\n",
    "df_filtered = gpd.read_file('./data/network/trt_network_filtered.shp')\n",
    "df_easy_features = gpd.read_file('./data/network/network_w_easy_features.shp')\n",
    "df_twoway = gpd.read_file('./data/network/trt_network_twoway_LTS.shp')"
   ]
  },
  {
   "cell_type": "code",
   "execution_count": 222,
   "id": "2cd9378b",
   "metadata": {},
   "outputs": [],
   "source": [
    "# process the easy feature file\n",
    "df_easy_features.loc[24513, 'LTS'] = 4\n",
    "df_easy_features = df_easy_features[df_easy_features['length_in_'] >= 50]"
   ]
  },
  {
   "cell_type": "code",
   "execution_count": 223,
   "id": "9a675351",
   "metadata": {},
   "outputs": [],
   "source": [
    "# process filtered features\n",
    "df_filtered.index = df_filtered['OBJECTID'] - 1"
   ]
  },
  {
   "cell_type": "code",
   "execution_count": 224,
   "id": "bade4973",
   "metadata": {},
   "outputs": [
    {
     "name": "stdout",
     "output_type": "stream",
     "text": [
      "Number of links in filtered: 41533, in easy: 41533\n"
     ]
    }
   ],
   "source": [
    "# file stats\n",
    "print(f'Number of links in filtered: {len(df_filtered)}, in easy: {len(df_easy_features)}')"
   ]
  },
  {
   "cell_type": "code",
   "execution_count": 225,
   "id": "9cf9ba53",
   "metadata": {},
   "outputs": [
    {
     "data": {
      "text/plain": [
       "Index(['OBJECTID', 'GEO_ID', 'LFN_ID', 'LF_NAME', 'FNODE', 'TNODE',\n",
       "       'ONE_WAY_DI', 'length_in_', 'GEO_ID_1', 'LTS', 'Shape_Leng', 'ONEWAY',\n",
       "       'Shape_Le_1', 'LTS_less4', 'geometry'],\n",
       "      dtype='object')"
      ]
     },
     "execution_count": 225,
     "metadata": {},
     "output_type": "execute_result"
    }
   ],
   "source": [
    "df_filtered.columns"
   ]
  },
  {
   "cell_type": "code",
   "execution_count": 226,
   "id": "0d7a9c35",
   "metadata": {},
   "outputs": [
    {
     "data": {
      "text/html": [
       "<div>\n",
       "<style scoped>\n",
       "    .dataframe tbody tr th:only-of-type {\n",
       "        vertical-align: middle;\n",
       "    }\n",
       "\n",
       "    .dataframe tbody tr th {\n",
       "        vertical-align: top;\n",
       "    }\n",
       "\n",
       "    .dataframe thead th {\n",
       "        text-align: right;\n",
       "    }\n",
       "</style>\n",
       "<table border=\"1\" class=\"dataframe\">\n",
       "  <thead>\n",
       "    <tr style=\"text-align: right;\">\n",
       "      <th></th>\n",
       "      <th>GEO_ID</th>\n",
       "      <th>road_type</th>\n",
       "      <th>speed_limit</th>\n",
       "      <th>nlanes</th>\n",
       "      <th>infras_type</th>\n",
       "      <th>lts</th>\n",
       "    </tr>\n",
       "    <tr>\n",
       "      <th>OBJECTID</th>\n",
       "      <th></th>\n",
       "      <th></th>\n",
       "      <th></th>\n",
       "      <th></th>\n",
       "      <th></th>\n",
       "      <th></th>\n",
       "    </tr>\n",
       "  </thead>\n",
       "  <tbody>\n",
       "    <tr>\n",
       "      <th>0</th>\n",
       "      <td>30079678</td>\n",
       "      <td>Trail</td>\n",
       "      <td>0</td>\n",
       "      <td>0</td>\n",
       "      <td>Major Multi-use Pathway</td>\n",
       "      <td>1</td>\n",
       "    </tr>\n",
       "    <tr>\n",
       "      <th>3</th>\n",
       "      <td>30082310</td>\n",
       "      <td>Other</td>\n",
       "      <td>0</td>\n",
       "      <td>2</td>\n",
       "      <td>None</td>\n",
       "      <td>1</td>\n",
       "    </tr>\n",
       "    <tr>\n",
       "      <th>4</th>\n",
       "      <td>30008940</td>\n",
       "      <td>Trail</td>\n",
       "      <td>0</td>\n",
       "      <td>0</td>\n",
       "      <td>Major Multi-use Pathway</td>\n",
       "      <td>1</td>\n",
       "    </tr>\n",
       "    <tr>\n",
       "      <th>7</th>\n",
       "      <td>9950476</td>\n",
       "      <td>Major Arterial</td>\n",
       "      <td>60</td>\n",
       "      <td>4</td>\n",
       "      <td>None</td>\n",
       "      <td>3</td>\n",
       "    </tr>\n",
       "    <tr>\n",
       "      <th>8</th>\n",
       "      <td>7641209</td>\n",
       "      <td>Local</td>\n",
       "      <td>50</td>\n",
       "      <td>2</td>\n",
       "      <td>None</td>\n",
       "      <td>2</td>\n",
       "    </tr>\n",
       "    <tr>\n",
       "      <th>...</th>\n",
       "      <td>...</td>\n",
       "      <td>...</td>\n",
       "      <td>...</td>\n",
       "      <td>...</td>\n",
       "      <td>...</td>\n",
       "      <td>...</td>\n",
       "    </tr>\n",
       "    <tr>\n",
       "      <th>59544</th>\n",
       "      <td>14253385</td>\n",
       "      <td>Major Arterial</td>\n",
       "      <td>50</td>\n",
       "      <td>4</td>\n",
       "      <td>None</td>\n",
       "      <td>4</td>\n",
       "    </tr>\n",
       "    <tr>\n",
       "      <th>59545</th>\n",
       "      <td>107745</td>\n",
       "      <td>Major Arterial</td>\n",
       "      <td>60</td>\n",
       "      <td>5</td>\n",
       "      <td>None</td>\n",
       "      <td>4</td>\n",
       "    </tr>\n",
       "    <tr>\n",
       "      <th>59551</th>\n",
       "      <td>30113300</td>\n",
       "      <td>Other</td>\n",
       "      <td>40</td>\n",
       "      <td>2</td>\n",
       "      <td>None</td>\n",
       "      <td>1</td>\n",
       "    </tr>\n",
       "    <tr>\n",
       "      <th>59552</th>\n",
       "      <td>30012613</td>\n",
       "      <td>Major Arterial</td>\n",
       "      <td>60</td>\n",
       "      <td>4</td>\n",
       "      <td>None</td>\n",
       "      <td>4</td>\n",
       "    </tr>\n",
       "    <tr>\n",
       "      <th>59553</th>\n",
       "      <td>30107781</td>\n",
       "      <td>Trail</td>\n",
       "      <td>0</td>\n",
       "      <td>0</td>\n",
       "      <td>None</td>\n",
       "      <td>1</td>\n",
       "    </tr>\n",
       "  </tbody>\n",
       "</table>\n",
       "<p>41533 rows × 6 columns</p>\n",
       "</div>"
      ],
      "text/plain": [
       "            GEO_ID       road_type  speed_limit  nlanes  \\\n",
       "OBJECTID                                                  \n",
       "0         30079678           Trail            0       0   \n",
       "3         30082310           Other            0       2   \n",
       "4         30008940           Trail            0       0   \n",
       "7          9950476  Major Arterial           60       4   \n",
       "8          7641209           Local           50       2   \n",
       "...            ...             ...          ...     ...   \n",
       "59544     14253385  Major Arterial           50       4   \n",
       "59545       107745  Major Arterial           60       5   \n",
       "59551     30113300           Other           40       2   \n",
       "59552     30012613  Major Arterial           60       4   \n",
       "59553     30107781           Trail            0       0   \n",
       "\n",
       "                      infras_type  lts  \n",
       "OBJECTID                                \n",
       "0         Major Multi-use Pathway    1  \n",
       "3                            None    1  \n",
       "4         Major Multi-use Pathway    1  \n",
       "7                            None    3  \n",
       "8                            None    2  \n",
       "...                           ...  ...  \n",
       "59544                        None    4  \n",
       "59545                        None    4  \n",
       "59551                        None    1  \n",
       "59552                        None    4  \n",
       "59553                        None    1  \n",
       "\n",
       "[41533 rows x 6 columns]"
      ]
     },
     "execution_count": 226,
     "metadata": {},
     "output_type": "execute_result"
    }
   ],
   "source": [
    "# join and select relevant columns\n",
    "feature_cols = ['FCODE_DESC', 'SPEED', 'NBRLANES_2', 'CP_TYPE']\n",
    "df = df_filtered.join(df_easy_features[feature_cols])\n",
    "flags = df[(df['LTS']==1) & (df['LF_NAME'] == 'Yonge St')].index\n",
    "df.loc[flags, 'CP_TYPE'] = 'Cycle Tracks'\n",
    "df = df[['GEO_ID'] + feature_cols + ['LTS']]\n",
    "df.columns = ['GEO_ID', 'road_type', 'speed_limit', 'nlanes', 'infras_type', 'lts']\n",
    "df"
   ]
  },
  {
   "cell_type": "code",
   "execution_count": 227,
   "id": "18b9f572",
   "metadata": {},
   "outputs": [
    {
     "data": {
      "text/plain": [
       "Index(['Join_Count', 'TARGET_FID', 'JOIN_FID', 'GEO_ID', 'LFN_ID', 'LF_NAME',\n",
       "       'ADDRESS_L', 'ADDRESS_R', 'OE_FLAG_L', 'OE_FLAG_R', 'LONUML', 'HINUML',\n",
       "       'LONUMR', 'HINUMR', 'FNODE', 'TNODE', 'ONE_WAY_DI', 'DIR_CODE_D',\n",
       "       'FCODE', 'FCODE_DESC', 'JURIS_CODE', 'OBJECTID', 'CP_TYPE',\n",
       "       'NRN_SpeedL', 'NBRLANES_2', 'Left_Parki', 'Right_Park', 'GTASpeed_1',\n",
       "       'GTASpeed_2', 'GTASPeed_3', 'Shape_Leng', 'Final_Spee', 'BL_width',\n",
       "       'BL_speed', 'with_parki', 'LTS_BL', 'LTS_mixed', 'LTS', 'geometry'],\n",
       "      dtype='object')"
      ]
     },
     "execution_count": 227,
     "metadata": {},
     "output_type": "execute_result"
    }
   ],
   "source": [
    "df_twoway.columns"
   ]
  },
  {
   "cell_type": "code",
   "execution_count": 228,
   "id": "b5f2cd50",
   "metadata": {},
   "outputs": [
    {
     "data": {
      "text/html": [
       "<div>\n",
       "<style scoped>\n",
       "    .dataframe tbody tr th:only-of-type {\n",
       "        vertical-align: middle;\n",
       "    }\n",
       "\n",
       "    .dataframe tbody tr th {\n",
       "        vertical-align: top;\n",
       "    }\n",
       "\n",
       "    .dataframe thead th {\n",
       "        text-align: right;\n",
       "    }\n",
       "</style>\n",
       "<table border=\"1\" class=\"dataframe\">\n",
       "  <thead>\n",
       "    <tr style=\"text-align: right;\">\n",
       "      <th></th>\n",
       "      <th>speed_limit_verification</th>\n",
       "      <th>speed</th>\n",
       "    </tr>\n",
       "    <tr>\n",
       "      <th>GEO_ID</th>\n",
       "      <th></th>\n",
       "      <th></th>\n",
       "    </tr>\n",
       "  </thead>\n",
       "  <tbody>\n",
       "    <tr>\n",
       "      <th>108</th>\n",
       "      <td>40</td>\n",
       "      <td>40.0</td>\n",
       "    </tr>\n",
       "    <tr>\n",
       "      <th>117</th>\n",
       "      <td>40</td>\n",
       "      <td>40.0</td>\n",
       "    </tr>\n",
       "    <tr>\n",
       "      <th>118</th>\n",
       "      <td>40</td>\n",
       "      <td>40.0</td>\n",
       "    </tr>\n",
       "    <tr>\n",
       "      <th>120</th>\n",
       "      <td>40</td>\n",
       "      <td>40.0</td>\n",
       "    </tr>\n",
       "    <tr>\n",
       "      <th>121</th>\n",
       "      <td>40</td>\n",
       "      <td>40.0</td>\n",
       "    </tr>\n",
       "    <tr>\n",
       "      <th>...</th>\n",
       "      <td>...</td>\n",
       "      <td>...</td>\n",
       "    </tr>\n",
       "    <tr>\n",
       "      <th>30113710</th>\n",
       "      <td>0</td>\n",
       "      <td>0.0</td>\n",
       "    </tr>\n",
       "    <tr>\n",
       "      <th>30113711</th>\n",
       "      <td>0</td>\n",
       "      <td>0.0</td>\n",
       "    </tr>\n",
       "    <tr>\n",
       "      <th>30113820</th>\n",
       "      <td>0</td>\n",
       "      <td>0.0</td>\n",
       "    </tr>\n",
       "    <tr>\n",
       "      <th>30113823</th>\n",
       "      <td>0</td>\n",
       "      <td>0.0</td>\n",
       "    </tr>\n",
       "    <tr>\n",
       "      <th>30113824</th>\n",
       "      <td>0</td>\n",
       "      <td>0.0</td>\n",
       "    </tr>\n",
       "  </tbody>\n",
       "</table>\n",
       "<p>59554 rows × 2 columns</p>\n",
       "</div>"
      ],
      "text/plain": [
       "          speed_limit_verification  speed\n",
       "GEO_ID                                   \n",
       "108                             40   40.0\n",
       "117                             40   40.0\n",
       "118                             40   40.0\n",
       "120                             40   40.0\n",
       "121                             40   40.0\n",
       "...                            ...    ...\n",
       "30113710                         0    0.0\n",
       "30113711                         0    0.0\n",
       "30113820                         0    0.0\n",
       "30113823                         0    0.0\n",
       "30113824                         0    0.0\n",
       "\n",
       "[59554 rows x 2 columns]"
      ]
     },
     "execution_count": 228,
     "metadata": {},
     "output_type": "execute_result"
    }
   ],
   "source": [
    "df_twoway = df_twoway[['GEO_ID', 'NRN_SpeedL', 'Final_Spee']]\n",
    "df_twoway.columns = ['GEO_ID', 'speed_limit_verification', 'speed']\n",
    "df_twoway = df_twoway.groupby('GEO_ID').max()\n",
    "df_twoway"
   ]
  },
  {
   "cell_type": "markdown",
   "id": "e632b30b",
   "metadata": {},
   "source": [
    "## Actual speed"
   ]
  },
  {
   "cell_type": "code",
   "execution_count": 229,
   "id": "1e276367",
   "metadata": {},
   "outputs": [
    {
     "name": "stdout",
     "output_type": "stream",
     "text": [
      "Number of missing values: 0\n",
      "Number of unique values: 1731\n",
      "They are: [40.   47.49 17.91 ... 37.35 32.75 23.11]\n"
     ]
    }
   ],
   "source": [
    "missing_and_unique(df_twoway, 'speed')"
   ]
  },
  {
   "cell_type": "code",
   "execution_count": 230,
   "id": "204b4fff",
   "metadata": {},
   "outputs": [
    {
     "name": "stdout",
     "output_type": "stream",
     "text": [
      "Number of missing values: 0\n",
      "Number of unique values: 12\n",
      "They are: [40 50 60  0 90 30 15 20 10 25 70 80]\n"
     ]
    }
   ],
   "source": [
    "missing_and_unique(df_twoway, 'speed_limit_verification')"
   ]
  },
  {
   "cell_type": "code",
   "execution_count": 231,
   "id": "0a8206df",
   "metadata": {},
   "outputs": [],
   "source": [
    "df = df.set_index('GEO_ID')"
   ]
  },
  {
   "cell_type": "code",
   "execution_count": 232,
   "id": "689f5f53",
   "metadata": {},
   "outputs": [
    {
     "data": {
      "text/html": [
       "<div>\n",
       "<style scoped>\n",
       "    .dataframe tbody tr th:only-of-type {\n",
       "        vertical-align: middle;\n",
       "    }\n",
       "\n",
       "    .dataframe tbody tr th {\n",
       "        vertical-align: top;\n",
       "    }\n",
       "\n",
       "    .dataframe thead th {\n",
       "        text-align: right;\n",
       "    }\n",
       "</style>\n",
       "<table border=\"1\" class=\"dataframe\">\n",
       "  <thead>\n",
       "    <tr style=\"text-align: right;\">\n",
       "      <th></th>\n",
       "      <th>road_type</th>\n",
       "      <th>speed_limit</th>\n",
       "      <th>nlanes</th>\n",
       "      <th>infras_type</th>\n",
       "      <th>lts</th>\n",
       "      <th>speed_limit_verification</th>\n",
       "      <th>speed</th>\n",
       "    </tr>\n",
       "  </thead>\n",
       "  <tbody>\n",
       "    <tr>\n",
       "      <th>0</th>\n",
       "      <td>Trail</td>\n",
       "      <td>0</td>\n",
       "      <td>0</td>\n",
       "      <td>Major Multi-use Pathway</td>\n",
       "      <td>1</td>\n",
       "      <td>0</td>\n",
       "      <td>0.00</td>\n",
       "    </tr>\n",
       "    <tr>\n",
       "      <th>1</th>\n",
       "      <td>Other</td>\n",
       "      <td>0</td>\n",
       "      <td>2</td>\n",
       "      <td>None</td>\n",
       "      <td>1</td>\n",
       "      <td>0</td>\n",
       "      <td>0.00</td>\n",
       "    </tr>\n",
       "    <tr>\n",
       "      <th>2</th>\n",
       "      <td>Trail</td>\n",
       "      <td>0</td>\n",
       "      <td>0</td>\n",
       "      <td>Major Multi-use Pathway</td>\n",
       "      <td>1</td>\n",
       "      <td>0</td>\n",
       "      <td>0.00</td>\n",
       "    </tr>\n",
       "    <tr>\n",
       "      <th>3</th>\n",
       "      <td>Major Arterial</td>\n",
       "      <td>60</td>\n",
       "      <td>4</td>\n",
       "      <td>None</td>\n",
       "      <td>3</td>\n",
       "      <td>60</td>\n",
       "      <td>37.62</td>\n",
       "    </tr>\n",
       "    <tr>\n",
       "      <th>4</th>\n",
       "      <td>Local</td>\n",
       "      <td>50</td>\n",
       "      <td>2</td>\n",
       "      <td>None</td>\n",
       "      <td>2</td>\n",
       "      <td>50</td>\n",
       "      <td>50.00</td>\n",
       "    </tr>\n",
       "    <tr>\n",
       "      <th>...</th>\n",
       "      <td>...</td>\n",
       "      <td>...</td>\n",
       "      <td>...</td>\n",
       "      <td>...</td>\n",
       "      <td>...</td>\n",
       "      <td>...</td>\n",
       "      <td>...</td>\n",
       "    </tr>\n",
       "    <tr>\n",
       "      <th>41528</th>\n",
       "      <td>Major Arterial</td>\n",
       "      <td>50</td>\n",
       "      <td>4</td>\n",
       "      <td>None</td>\n",
       "      <td>4</td>\n",
       "      <td>50</td>\n",
       "      <td>49.54</td>\n",
       "    </tr>\n",
       "    <tr>\n",
       "      <th>41529</th>\n",
       "      <td>Major Arterial</td>\n",
       "      <td>60</td>\n",
       "      <td>5</td>\n",
       "      <td>None</td>\n",
       "      <td>4</td>\n",
       "      <td>60</td>\n",
       "      <td>58.89</td>\n",
       "    </tr>\n",
       "    <tr>\n",
       "      <th>41530</th>\n",
       "      <td>Other</td>\n",
       "      <td>40</td>\n",
       "      <td>2</td>\n",
       "      <td>None</td>\n",
       "      <td>1</td>\n",
       "      <td>40</td>\n",
       "      <td>40.00</td>\n",
       "    </tr>\n",
       "    <tr>\n",
       "      <th>41531</th>\n",
       "      <td>Major Arterial</td>\n",
       "      <td>60</td>\n",
       "      <td>4</td>\n",
       "      <td>None</td>\n",
       "      <td>4</td>\n",
       "      <td>60</td>\n",
       "      <td>41.29</td>\n",
       "    </tr>\n",
       "    <tr>\n",
       "      <th>41532</th>\n",
       "      <td>Trail</td>\n",
       "      <td>0</td>\n",
       "      <td>0</td>\n",
       "      <td>None</td>\n",
       "      <td>1</td>\n",
       "      <td>0</td>\n",
       "      <td>0.00</td>\n",
       "    </tr>\n",
       "  </tbody>\n",
       "</table>\n",
       "<p>41533 rows × 7 columns</p>\n",
       "</div>"
      ],
      "text/plain": [
       "            road_type  speed_limit  nlanes              infras_type  lts  \\\n",
       "0               Trail            0       0  Major Multi-use Pathway    1   \n",
       "1               Other            0       2                     None    1   \n",
       "2               Trail            0       0  Major Multi-use Pathway    1   \n",
       "3      Major Arterial           60       4                     None    3   \n",
       "4               Local           50       2                     None    2   \n",
       "...               ...          ...     ...                      ...  ...   \n",
       "41528  Major Arterial           50       4                     None    4   \n",
       "41529  Major Arterial           60       5                     None    4   \n",
       "41530           Other           40       2                     None    1   \n",
       "41531  Major Arterial           60       4                     None    4   \n",
       "41532           Trail            0       0                     None    1   \n",
       "\n",
       "       speed_limit_verification  speed  \n",
       "0                             0   0.00  \n",
       "1                             0   0.00  \n",
       "2                             0   0.00  \n",
       "3                            60  37.62  \n",
       "4                            50  50.00  \n",
       "...                         ...    ...  \n",
       "41528                        50  49.54  \n",
       "41529                        60  58.89  \n",
       "41530                        40  40.00  \n",
       "41531                        60  41.29  \n",
       "41532                         0   0.00  \n",
       "\n",
       "[41533 rows x 7 columns]"
      ]
     },
     "execution_count": 232,
     "metadata": {},
     "output_type": "execute_result"
    }
   ],
   "source": [
    "df = df.join(df_twoway, how='left', rsuffix='_r')\n",
    "df.reset_index(drop=True, inplace=True)\n",
    "df"
   ]
  },
  {
   "cell_type": "code",
   "execution_count": 233,
   "id": "ac2b57bd",
   "metadata": {},
   "outputs": [
    {
     "data": {
      "text/html": [
       "<div>\n",
       "<style scoped>\n",
       "    .dataframe tbody tr th:only-of-type {\n",
       "        vertical-align: middle;\n",
       "    }\n",
       "\n",
       "    .dataframe tbody tr th {\n",
       "        vertical-align: top;\n",
       "    }\n",
       "\n",
       "    .dataframe thead tr th {\n",
       "        text-align: left;\n",
       "    }\n",
       "</style>\n",
       "<table border=\"1\" class=\"dataframe\">\n",
       "  <thead>\n",
       "    <tr>\n",
       "      <th></th>\n",
       "      <th>road_type</th>\n",
       "      <th>speed_limit</th>\n",
       "      <th>nlanes</th>\n",
       "      <th>infras_type</th>\n",
       "      <th>speed_actual</th>\n",
       "      <th>lts</th>\n",
       "    </tr>\n",
       "  </thead>\n",
       "  <tbody>\n",
       "    <tr>\n",
       "      <th>0</th>\n",
       "      <td>Trail</td>\n",
       "      <td>0</td>\n",
       "      <td>0</td>\n",
       "      <td>Major Multi-use Pathway</td>\n",
       "      <td>0.00</td>\n",
       "      <td>1</td>\n",
       "    </tr>\n",
       "    <tr>\n",
       "      <th>1</th>\n",
       "      <td>Other</td>\n",
       "      <td>0</td>\n",
       "      <td>2</td>\n",
       "      <td>None</td>\n",
       "      <td>0.00</td>\n",
       "      <td>1</td>\n",
       "    </tr>\n",
       "    <tr>\n",
       "      <th>2</th>\n",
       "      <td>Trail</td>\n",
       "      <td>0</td>\n",
       "      <td>0</td>\n",
       "      <td>Major Multi-use Pathway</td>\n",
       "      <td>0.00</td>\n",
       "      <td>1</td>\n",
       "    </tr>\n",
       "    <tr>\n",
       "      <th>3</th>\n",
       "      <td>Major Arterial</td>\n",
       "      <td>60</td>\n",
       "      <td>4</td>\n",
       "      <td>None</td>\n",
       "      <td>37.62</td>\n",
       "      <td>3</td>\n",
       "    </tr>\n",
       "    <tr>\n",
       "      <th>4</th>\n",
       "      <td>Local</td>\n",
       "      <td>50</td>\n",
       "      <td>2</td>\n",
       "      <td>None</td>\n",
       "      <td>50.00</td>\n",
       "      <td>2</td>\n",
       "    </tr>\n",
       "    <tr>\n",
       "      <th>...</th>\n",
       "      <td>...</td>\n",
       "      <td>...</td>\n",
       "      <td>...</td>\n",
       "      <td>...</td>\n",
       "      <td>...</td>\n",
       "      <td>...</td>\n",
       "    </tr>\n",
       "    <tr>\n",
       "      <th>41528</th>\n",
       "      <td>Major Arterial</td>\n",
       "      <td>50</td>\n",
       "      <td>4</td>\n",
       "      <td>None</td>\n",
       "      <td>49.54</td>\n",
       "      <td>4</td>\n",
       "    </tr>\n",
       "    <tr>\n",
       "      <th>41529</th>\n",
       "      <td>Major Arterial</td>\n",
       "      <td>60</td>\n",
       "      <td>5</td>\n",
       "      <td>None</td>\n",
       "      <td>58.89</td>\n",
       "      <td>4</td>\n",
       "    </tr>\n",
       "    <tr>\n",
       "      <th>41530</th>\n",
       "      <td>Other</td>\n",
       "      <td>40</td>\n",
       "      <td>2</td>\n",
       "      <td>None</td>\n",
       "      <td>40.00</td>\n",
       "      <td>1</td>\n",
       "    </tr>\n",
       "    <tr>\n",
       "      <th>41531</th>\n",
       "      <td>Major Arterial</td>\n",
       "      <td>60</td>\n",
       "      <td>4</td>\n",
       "      <td>None</td>\n",
       "      <td>41.29</td>\n",
       "      <td>4</td>\n",
       "    </tr>\n",
       "    <tr>\n",
       "      <th>41532</th>\n",
       "      <td>Trail</td>\n",
       "      <td>0</td>\n",
       "      <td>0</td>\n",
       "      <td>None</td>\n",
       "      <td>0.00</td>\n",
       "      <td>1</td>\n",
       "    </tr>\n",
       "  </tbody>\n",
       "</table>\n",
       "<p>41533 rows × 6 columns</p>\n",
       "</div>"
      ],
      "text/plain": [
       "            road_type speed_limit nlanes              infras_type  \\\n",
       "0               Trail           0      0  Major Multi-use Pathway   \n",
       "1               Other           0      2                     None   \n",
       "2               Trail           0      0  Major Multi-use Pathway   \n",
       "3      Major Arterial          60      4                     None   \n",
       "4               Local          50      2                     None   \n",
       "...               ...         ...    ...                      ...   \n",
       "41528  Major Arterial          50      4                     None   \n",
       "41529  Major Arterial          60      5                     None   \n",
       "41530           Other          40      2                     None   \n",
       "41531  Major Arterial          60      4                     None   \n",
       "41532           Trail           0      0                     None   \n",
       "\n",
       "      speed_actual lts  \n",
       "0             0.00   1  \n",
       "1             0.00   1  \n",
       "2             0.00   1  \n",
       "3            37.62   3  \n",
       "4            50.00   2  \n",
       "...            ...  ..  \n",
       "41528        49.54   4  \n",
       "41529        58.89   4  \n",
       "41530        40.00   1  \n",
       "41531        41.29   4  \n",
       "41532         0.00   1  \n",
       "\n",
       "[41533 rows x 6 columns]"
      ]
     },
     "execution_count": 233,
     "metadata": {},
     "output_type": "execute_result"
    }
   ],
   "source": [
    "df['speed_limit'] = df['speed_limit_verification']\n",
    "df = df[['road_type', 'speed_limit', 'nlanes', 'infras_type', 'speed', 'lts']]\n",
    "df.columns = [['road_type', 'speed_limit', 'nlanes', 'infras_type', 'speed_actual', 'lts']]\n",
    "df"
   ]
  },
  {
   "cell_type": "code",
   "execution_count": 237,
   "id": "cb772533",
   "metadata": {},
   "outputs": [],
   "source": [
    "df.to_csv('./data/network/intermediate.csv', index=False)"
   ]
  },
  {
   "cell_type": "code",
   "execution_count": 238,
   "id": "58460dd9",
   "metadata": {},
   "outputs": [
    {
     "data": {
      "text/html": [
       "<div>\n",
       "<style scoped>\n",
       "    .dataframe tbody tr th:only-of-type {\n",
       "        vertical-align: middle;\n",
       "    }\n",
       "\n",
       "    .dataframe tbody tr th {\n",
       "        vertical-align: top;\n",
       "    }\n",
       "\n",
       "    .dataframe thead th {\n",
       "        text-align: right;\n",
       "    }\n",
       "</style>\n",
       "<table border=\"1\" class=\"dataframe\">\n",
       "  <thead>\n",
       "    <tr style=\"text-align: right;\">\n",
       "      <th></th>\n",
       "      <th>road_type</th>\n",
       "      <th>speed_limit</th>\n",
       "      <th>nlanes</th>\n",
       "      <th>infras_type</th>\n",
       "      <th>speed_actual</th>\n",
       "      <th>lts</th>\n",
       "    </tr>\n",
       "  </thead>\n",
       "  <tbody>\n",
       "    <tr>\n",
       "      <th>0</th>\n",
       "      <td>Trail</td>\n",
       "      <td>0</td>\n",
       "      <td>0</td>\n",
       "      <td>Major Multi-use Pathway</td>\n",
       "      <td>0.00</td>\n",
       "      <td>1</td>\n",
       "    </tr>\n",
       "    <tr>\n",
       "      <th>1</th>\n",
       "      <td>Other</td>\n",
       "      <td>0</td>\n",
       "      <td>2</td>\n",
       "      <td>NaN</td>\n",
       "      <td>0.00</td>\n",
       "      <td>1</td>\n",
       "    </tr>\n",
       "    <tr>\n",
       "      <th>2</th>\n",
       "      <td>Trail</td>\n",
       "      <td>0</td>\n",
       "      <td>0</td>\n",
       "      <td>Major Multi-use Pathway</td>\n",
       "      <td>0.00</td>\n",
       "      <td>1</td>\n",
       "    </tr>\n",
       "    <tr>\n",
       "      <th>3</th>\n",
       "      <td>Major Arterial</td>\n",
       "      <td>60</td>\n",
       "      <td>4</td>\n",
       "      <td>NaN</td>\n",
       "      <td>37.62</td>\n",
       "      <td>3</td>\n",
       "    </tr>\n",
       "    <tr>\n",
       "      <th>4</th>\n",
       "      <td>Local</td>\n",
       "      <td>50</td>\n",
       "      <td>2</td>\n",
       "      <td>NaN</td>\n",
       "      <td>50.00</td>\n",
       "      <td>2</td>\n",
       "    </tr>\n",
       "    <tr>\n",
       "      <th>...</th>\n",
       "      <td>...</td>\n",
       "      <td>...</td>\n",
       "      <td>...</td>\n",
       "      <td>...</td>\n",
       "      <td>...</td>\n",
       "      <td>...</td>\n",
       "    </tr>\n",
       "    <tr>\n",
       "      <th>41528</th>\n",
       "      <td>Major Arterial</td>\n",
       "      <td>50</td>\n",
       "      <td>4</td>\n",
       "      <td>NaN</td>\n",
       "      <td>49.54</td>\n",
       "      <td>4</td>\n",
       "    </tr>\n",
       "    <tr>\n",
       "      <th>41529</th>\n",
       "      <td>Major Arterial</td>\n",
       "      <td>60</td>\n",
       "      <td>5</td>\n",
       "      <td>NaN</td>\n",
       "      <td>58.89</td>\n",
       "      <td>4</td>\n",
       "    </tr>\n",
       "    <tr>\n",
       "      <th>41530</th>\n",
       "      <td>Other</td>\n",
       "      <td>40</td>\n",
       "      <td>2</td>\n",
       "      <td>NaN</td>\n",
       "      <td>40.00</td>\n",
       "      <td>1</td>\n",
       "    </tr>\n",
       "    <tr>\n",
       "      <th>41531</th>\n",
       "      <td>Major Arterial</td>\n",
       "      <td>60</td>\n",
       "      <td>4</td>\n",
       "      <td>NaN</td>\n",
       "      <td>41.29</td>\n",
       "      <td>4</td>\n",
       "    </tr>\n",
       "    <tr>\n",
       "      <th>41532</th>\n",
       "      <td>Trail</td>\n",
       "      <td>0</td>\n",
       "      <td>0</td>\n",
       "      <td>NaN</td>\n",
       "      <td>0.00</td>\n",
       "      <td>1</td>\n",
       "    </tr>\n",
       "  </tbody>\n",
       "</table>\n",
       "<p>41533 rows × 6 columns</p>\n",
       "</div>"
      ],
      "text/plain": [
       "            road_type  speed_limit  nlanes              infras_type  \\\n",
       "0               Trail            0       0  Major Multi-use Pathway   \n",
       "1               Other            0       2                      NaN   \n",
       "2               Trail            0       0  Major Multi-use Pathway   \n",
       "3      Major Arterial           60       4                      NaN   \n",
       "4               Local           50       2                      NaN   \n",
       "...               ...          ...     ...                      ...   \n",
       "41528  Major Arterial           50       4                      NaN   \n",
       "41529  Major Arterial           60       5                      NaN   \n",
       "41530           Other           40       2                      NaN   \n",
       "41531  Major Arterial           60       4                      NaN   \n",
       "41532           Trail            0       0                      NaN   \n",
       "\n",
       "       speed_actual  lts  \n",
       "0              0.00    1  \n",
       "1              0.00    1  \n",
       "2              0.00    1  \n",
       "3             37.62    3  \n",
       "4             50.00    2  \n",
       "...             ...  ...  \n",
       "41528         49.54    4  \n",
       "41529         58.89    4  \n",
       "41530         40.00    1  \n",
       "41531         41.29    4  \n",
       "41532          0.00    1  \n",
       "\n",
       "[41533 rows x 6 columns]"
      ]
     },
     "execution_count": 238,
     "metadata": {},
     "output_type": "execute_result"
    }
   ],
   "source": [
    "df = pd.read_csv('./data/network/intermediate.csv')\n",
    "df"
   ]
  },
  {
   "cell_type": "markdown",
   "id": "c7845835",
   "metadata": {},
   "source": [
    "## Road Type"
   ]
  },
  {
   "cell_type": "code",
   "execution_count": 239,
   "id": "84b8d5fe",
   "metadata": {},
   "outputs": [
    {
     "name": "stdout",
     "output_type": "stream",
     "text": [
      "Number of missing values: 0\n",
      "Number of unique values: 15\n",
      "They are: ['Trail' 'Other' 'Major Arterial' 'Local' 'Collector' 'Laneway' 'Walkway'\n",
      " 'Minor Arterial' 'Pending' 'Major Arterial Ramp' 'Access Road'\n",
      " 'Collector Ramp' 'Other Ramp' 'Busway' 'Minor Arterial Ramp']\n"
     ]
    }
   ],
   "source": [
    "# road type column\n",
    "missing_and_unique(df, 'road_type')"
   ]
  },
  {
   "cell_type": "code",
   "execution_count": 240,
   "id": "f5507447",
   "metadata": {},
   "outputs": [
    {
     "name": "stdout",
     "output_type": "stream",
     "text": [
      "Number of missing values: 0\n",
      "Number of unique values: 9\n",
      "They are: ['Trail' 'Other' 'Arterial' 'Local' 'Collector' 'Laneway' 'Walkway'\n",
      " 'Access Road' 'Ramp']\n"
     ]
    }
   ],
   "source": [
    "# replace\n",
    "road_type_mapping = {'Major Arterial': 'Arterial', 'Minor Arterial': 'Arterial', \n",
    "                     'Major Arterial Ramp': 'Arterial', 'Minor Arterial Ramp': 'Ramp',\n",
    "                     'Collector Ramp': 'Ramp', 'Other Ramp': 'Other', 'Busway': 'Other',\n",
    "                     'Pending': 'Other'}\n",
    "df['road_type'].replace(road_type_mapping, inplace=True)\n",
    "missing_and_unique(df, 'road_type')"
   ]
  },
  {
   "cell_type": "code",
   "execution_count": 241,
   "id": "e00f9f9b",
   "metadata": {},
   "outputs": [],
   "source": [
    "# one-hot-encoding\n",
    "df = pd.concat([df, pd.get_dummies(df['road_type'])], axis=1)"
   ]
  },
  {
   "cell_type": "code",
   "execution_count": 242,
   "id": "4c9bfc9a",
   "metadata": {},
   "outputs": [
    {
     "data": {
      "text/html": [
       "<div>\n",
       "<style scoped>\n",
       "    .dataframe tbody tr th:only-of-type {\n",
       "        vertical-align: middle;\n",
       "    }\n",
       "\n",
       "    .dataframe tbody tr th {\n",
       "        vertical-align: top;\n",
       "    }\n",
       "\n",
       "    .dataframe thead th {\n",
       "        text-align: right;\n",
       "    }\n",
       "</style>\n",
       "<table border=\"1\" class=\"dataframe\">\n",
       "  <thead>\n",
       "    <tr style=\"text-align: right;\">\n",
       "      <th></th>\n",
       "      <th>road_type</th>\n",
       "      <th>speed_limit</th>\n",
       "      <th>nlanes</th>\n",
       "      <th>infras_type</th>\n",
       "      <th>speed_actual</th>\n",
       "      <th>lts</th>\n",
       "      <th>Access Road</th>\n",
       "      <th>Arterial</th>\n",
       "      <th>Collector</th>\n",
       "      <th>Laneway</th>\n",
       "      <th>Local</th>\n",
       "      <th>Other</th>\n",
       "      <th>Ramp</th>\n",
       "      <th>Trail</th>\n",
       "      <th>Walkway</th>\n",
       "    </tr>\n",
       "  </thead>\n",
       "  <tbody>\n",
       "    <tr>\n",
       "      <th>0</th>\n",
       "      <td>Trail</td>\n",
       "      <td>0</td>\n",
       "      <td>0</td>\n",
       "      <td>Major Multi-use Pathway</td>\n",
       "      <td>0.00</td>\n",
       "      <td>1</td>\n",
       "      <td>0</td>\n",
       "      <td>0</td>\n",
       "      <td>0</td>\n",
       "      <td>0</td>\n",
       "      <td>0</td>\n",
       "      <td>0</td>\n",
       "      <td>0</td>\n",
       "      <td>1</td>\n",
       "      <td>0</td>\n",
       "    </tr>\n",
       "    <tr>\n",
       "      <th>1</th>\n",
       "      <td>Other</td>\n",
       "      <td>0</td>\n",
       "      <td>2</td>\n",
       "      <td>NaN</td>\n",
       "      <td>0.00</td>\n",
       "      <td>1</td>\n",
       "      <td>0</td>\n",
       "      <td>0</td>\n",
       "      <td>0</td>\n",
       "      <td>0</td>\n",
       "      <td>0</td>\n",
       "      <td>1</td>\n",
       "      <td>0</td>\n",
       "      <td>0</td>\n",
       "      <td>0</td>\n",
       "    </tr>\n",
       "    <tr>\n",
       "      <th>2</th>\n",
       "      <td>Trail</td>\n",
       "      <td>0</td>\n",
       "      <td>0</td>\n",
       "      <td>Major Multi-use Pathway</td>\n",
       "      <td>0.00</td>\n",
       "      <td>1</td>\n",
       "      <td>0</td>\n",
       "      <td>0</td>\n",
       "      <td>0</td>\n",
       "      <td>0</td>\n",
       "      <td>0</td>\n",
       "      <td>0</td>\n",
       "      <td>0</td>\n",
       "      <td>1</td>\n",
       "      <td>0</td>\n",
       "    </tr>\n",
       "    <tr>\n",
       "      <th>3</th>\n",
       "      <td>Arterial</td>\n",
       "      <td>60</td>\n",
       "      <td>4</td>\n",
       "      <td>NaN</td>\n",
       "      <td>37.62</td>\n",
       "      <td>3</td>\n",
       "      <td>0</td>\n",
       "      <td>1</td>\n",
       "      <td>0</td>\n",
       "      <td>0</td>\n",
       "      <td>0</td>\n",
       "      <td>0</td>\n",
       "      <td>0</td>\n",
       "      <td>0</td>\n",
       "      <td>0</td>\n",
       "    </tr>\n",
       "    <tr>\n",
       "      <th>4</th>\n",
       "      <td>Local</td>\n",
       "      <td>50</td>\n",
       "      <td>2</td>\n",
       "      <td>NaN</td>\n",
       "      <td>50.00</td>\n",
       "      <td>2</td>\n",
       "      <td>0</td>\n",
       "      <td>0</td>\n",
       "      <td>0</td>\n",
       "      <td>0</td>\n",
       "      <td>1</td>\n",
       "      <td>0</td>\n",
       "      <td>0</td>\n",
       "      <td>0</td>\n",
       "      <td>0</td>\n",
       "    </tr>\n",
       "    <tr>\n",
       "      <th>...</th>\n",
       "      <td>...</td>\n",
       "      <td>...</td>\n",
       "      <td>...</td>\n",
       "      <td>...</td>\n",
       "      <td>...</td>\n",
       "      <td>...</td>\n",
       "      <td>...</td>\n",
       "      <td>...</td>\n",
       "      <td>...</td>\n",
       "      <td>...</td>\n",
       "      <td>...</td>\n",
       "      <td>...</td>\n",
       "      <td>...</td>\n",
       "      <td>...</td>\n",
       "      <td>...</td>\n",
       "    </tr>\n",
       "    <tr>\n",
       "      <th>41528</th>\n",
       "      <td>Arterial</td>\n",
       "      <td>50</td>\n",
       "      <td>4</td>\n",
       "      <td>NaN</td>\n",
       "      <td>49.54</td>\n",
       "      <td>4</td>\n",
       "      <td>0</td>\n",
       "      <td>1</td>\n",
       "      <td>0</td>\n",
       "      <td>0</td>\n",
       "      <td>0</td>\n",
       "      <td>0</td>\n",
       "      <td>0</td>\n",
       "      <td>0</td>\n",
       "      <td>0</td>\n",
       "    </tr>\n",
       "    <tr>\n",
       "      <th>41529</th>\n",
       "      <td>Arterial</td>\n",
       "      <td>60</td>\n",
       "      <td>5</td>\n",
       "      <td>NaN</td>\n",
       "      <td>58.89</td>\n",
       "      <td>4</td>\n",
       "      <td>0</td>\n",
       "      <td>1</td>\n",
       "      <td>0</td>\n",
       "      <td>0</td>\n",
       "      <td>0</td>\n",
       "      <td>0</td>\n",
       "      <td>0</td>\n",
       "      <td>0</td>\n",
       "      <td>0</td>\n",
       "    </tr>\n",
       "    <tr>\n",
       "      <th>41530</th>\n",
       "      <td>Other</td>\n",
       "      <td>40</td>\n",
       "      <td>2</td>\n",
       "      <td>NaN</td>\n",
       "      <td>40.00</td>\n",
       "      <td>1</td>\n",
       "      <td>0</td>\n",
       "      <td>0</td>\n",
       "      <td>0</td>\n",
       "      <td>0</td>\n",
       "      <td>0</td>\n",
       "      <td>1</td>\n",
       "      <td>0</td>\n",
       "      <td>0</td>\n",
       "      <td>0</td>\n",
       "    </tr>\n",
       "    <tr>\n",
       "      <th>41531</th>\n",
       "      <td>Arterial</td>\n",
       "      <td>60</td>\n",
       "      <td>4</td>\n",
       "      <td>NaN</td>\n",
       "      <td>41.29</td>\n",
       "      <td>4</td>\n",
       "      <td>0</td>\n",
       "      <td>1</td>\n",
       "      <td>0</td>\n",
       "      <td>0</td>\n",
       "      <td>0</td>\n",
       "      <td>0</td>\n",
       "      <td>0</td>\n",
       "      <td>0</td>\n",
       "      <td>0</td>\n",
       "    </tr>\n",
       "    <tr>\n",
       "      <th>41532</th>\n",
       "      <td>Trail</td>\n",
       "      <td>0</td>\n",
       "      <td>0</td>\n",
       "      <td>NaN</td>\n",
       "      <td>0.00</td>\n",
       "      <td>1</td>\n",
       "      <td>0</td>\n",
       "      <td>0</td>\n",
       "      <td>0</td>\n",
       "      <td>0</td>\n",
       "      <td>0</td>\n",
       "      <td>0</td>\n",
       "      <td>0</td>\n",
       "      <td>1</td>\n",
       "      <td>0</td>\n",
       "    </tr>\n",
       "  </tbody>\n",
       "</table>\n",
       "<p>41533 rows × 15 columns</p>\n",
       "</div>"
      ],
      "text/plain": [
       "      road_type  speed_limit  nlanes              infras_type  speed_actual  \\\n",
       "0         Trail            0       0  Major Multi-use Pathway          0.00   \n",
       "1         Other            0       2                      NaN          0.00   \n",
       "2         Trail            0       0  Major Multi-use Pathway          0.00   \n",
       "3      Arterial           60       4                      NaN         37.62   \n",
       "4         Local           50       2                      NaN         50.00   \n",
       "...         ...          ...     ...                      ...           ...   \n",
       "41528  Arterial           50       4                      NaN         49.54   \n",
       "41529  Arterial           60       5                      NaN         58.89   \n",
       "41530     Other           40       2                      NaN         40.00   \n",
       "41531  Arterial           60       4                      NaN         41.29   \n",
       "41532     Trail            0       0                      NaN          0.00   \n",
       "\n",
       "       lts  Access Road  Arterial  Collector  Laneway  Local  Other  Ramp  \\\n",
       "0        1            0         0          0        0      0      0     0   \n",
       "1        1            0         0          0        0      0      1     0   \n",
       "2        1            0         0          0        0      0      0     0   \n",
       "3        3            0         1          0        0      0      0     0   \n",
       "4        2            0         0          0        0      1      0     0   \n",
       "...    ...          ...       ...        ...      ...    ...    ...   ...   \n",
       "41528    4            0         1          0        0      0      0     0   \n",
       "41529    4            0         1          0        0      0      0     0   \n",
       "41530    1            0         0          0        0      0      1     0   \n",
       "41531    4            0         1          0        0      0      0     0   \n",
       "41532    1            0         0          0        0      0      0     0   \n",
       "\n",
       "       Trail  Walkway  \n",
       "0          1        0  \n",
       "1          0        0  \n",
       "2          1        0  \n",
       "3          0        0  \n",
       "4          0        0  \n",
       "...      ...      ...  \n",
       "41528      0        0  \n",
       "41529      0        0  \n",
       "41530      0        0  \n",
       "41531      0        0  \n",
       "41532      1        0  \n",
       "\n",
       "[41533 rows x 15 columns]"
      ]
     },
     "execution_count": 242,
     "metadata": {},
     "output_type": "execute_result"
    }
   ],
   "source": [
    "df"
   ]
  },
  {
   "cell_type": "markdown",
   "id": "e0513390",
   "metadata": {},
   "source": [
    "## Speed limit"
   ]
  },
  {
   "cell_type": "code",
   "execution_count": 243,
   "id": "0ed15110",
   "metadata": {},
   "outputs": [
    {
     "name": "stdout",
     "output_type": "stream",
     "text": [
      "Number of missing values: 0\n",
      "Number of unique values: 11\n",
      "They are: [ 0 60 50 40 20 30 10 70 80 15 25]\n"
     ]
    }
   ],
   "source": [
    "missing_and_unique(df, 'speed_limit')"
   ]
  },
  {
   "cell_type": "code",
   "execution_count": 244,
   "id": "777881ce",
   "metadata": {},
   "outputs": [],
   "source": [
    "df = pd.concat([df, pd.get_dummies(df['speed_limit'])], axis=1)"
   ]
  },
  {
   "cell_type": "code",
   "execution_count": 245,
   "id": "494f0f6f",
   "metadata": {},
   "outputs": [],
   "source": [
    "df['s_leq_40'] = np.minimum(df['speed_limit'].values, 40)\n",
    "df['s_leq_56'] = np.minimum(np.maximum(df['speed_limit'].values - 40, 0), 16)\n",
    "df['s_geq_56'] = np.maximum(df['speed_limit'].values - 56, 0)"
   ]
  },
  {
   "cell_type": "markdown",
   "id": "8d6981ef",
   "metadata": {},
   "source": [
    "## nlanes"
   ]
  },
  {
   "cell_type": "code",
   "execution_count": 246,
   "id": "1516b43d",
   "metadata": {},
   "outputs": [
    {
     "name": "stdout",
     "output_type": "stream",
     "text": [
      "Number of missing values: 0\n",
      "Number of unique values: 11\n",
      "They are: [ 0  2  4  5  6  3  1  7 21  8 44]\n"
     ]
    }
   ],
   "source": [
    "missing_and_unique(df, 'nlanes')"
   ]
  },
  {
   "cell_type": "code",
   "execution_count": 247,
   "id": "87ba746e",
   "metadata": {},
   "outputs": [
    {
     "name": "stdout",
     "output_type": "stream",
     "text": [
      "Number of missing values: 0\n",
      "Number of unique values: 9\n",
      "They are: [0 2 4 5 6 3 1 7 8]\n"
     ]
    }
   ],
   "source": [
    "df['nlanes'] = df['nlanes'].replace({44: 4, 21: 2})\n",
    "missing_and_unique(df, 'nlanes')"
   ]
  },
  {
   "cell_type": "code",
   "execution_count": 314,
   "id": "a21fdcff",
   "metadata": {},
   "outputs": [],
   "source": [
    "n_lanes_onehot = pd.get_dummies(df['nlanes']).values"
   ]
  },
  {
   "cell_type": "markdown",
   "id": "1bdda841",
   "metadata": {},
   "source": [
    "# infras type"
   ]
  },
  {
   "cell_type": "code",
   "execution_count": 248,
   "id": "68a80af1",
   "metadata": {},
   "outputs": [
    {
     "name": "stdout",
     "output_type": "stream",
     "text": [
      "Number of missing values: 36817\n",
      "Number of unique values: 10\n",
      "They are: ['Major Multi-use Pathway' nan 'Suggested On-Street Routes'\n",
      " 'Signed Routes' 'Bike Lanes' 'Park Roads Cycling Connections'\n",
      " 'Minor Multi-use Pathway' 'Quiet Street Cycling Routes' 'Cycle Tracks'\n",
      " 'Informal Dirt Footpath']\n"
     ]
    }
   ],
   "source": [
    "missing_and_unique(df, 'infras_type')"
   ]
  },
  {
   "cell_type": "code",
   "execution_count": 249,
   "id": "a3c74f47",
   "metadata": {},
   "outputs": [
    {
     "data": {
      "text/html": [
       "<div>\n",
       "<style scoped>\n",
       "    .dataframe tbody tr th:only-of-type {\n",
       "        vertical-align: middle;\n",
       "    }\n",
       "\n",
       "    .dataframe tbody tr th {\n",
       "        vertical-align: top;\n",
       "    }\n",
       "\n",
       "    .dataframe thead th {\n",
       "        text-align: right;\n",
       "    }\n",
       "</style>\n",
       "<table border=\"1\" class=\"dataframe\">\n",
       "  <thead>\n",
       "    <tr style=\"text-align: right;\">\n",
       "      <th></th>\n",
       "      <th>road_type</th>\n",
       "      <th>speed_limit</th>\n",
       "      <th>nlanes</th>\n",
       "      <th>infras_type</th>\n",
       "      <th>speed_actual</th>\n",
       "      <th>lts</th>\n",
       "      <th>Access Road</th>\n",
       "      <th>Arterial</th>\n",
       "      <th>Collector</th>\n",
       "      <th>Laneway</th>\n",
       "      <th>...</th>\n",
       "      <th>30</th>\n",
       "      <th>40</th>\n",
       "      <th>50</th>\n",
       "      <th>60</th>\n",
       "      <th>70</th>\n",
       "      <th>80</th>\n",
       "      <th>s_leq_40</th>\n",
       "      <th>s_leq_56</th>\n",
       "      <th>s_geq_56</th>\n",
       "      <th>infras_binary</th>\n",
       "    </tr>\n",
       "  </thead>\n",
       "  <tbody>\n",
       "    <tr>\n",
       "      <th>0</th>\n",
       "      <td>Trail</td>\n",
       "      <td>0</td>\n",
       "      <td>0</td>\n",
       "      <td>Major Multi-use Pathway</td>\n",
       "      <td>0.00</td>\n",
       "      <td>1</td>\n",
       "      <td>0</td>\n",
       "      <td>0</td>\n",
       "      <td>0</td>\n",
       "      <td>0</td>\n",
       "      <td>...</td>\n",
       "      <td>0</td>\n",
       "      <td>0</td>\n",
       "      <td>0</td>\n",
       "      <td>0</td>\n",
       "      <td>0</td>\n",
       "      <td>0</td>\n",
       "      <td>0</td>\n",
       "      <td>0</td>\n",
       "      <td>0</td>\n",
       "      <td>0</td>\n",
       "    </tr>\n",
       "    <tr>\n",
       "      <th>1</th>\n",
       "      <td>Other</td>\n",
       "      <td>0</td>\n",
       "      <td>2</td>\n",
       "      <td>NaN</td>\n",
       "      <td>0.00</td>\n",
       "      <td>1</td>\n",
       "      <td>0</td>\n",
       "      <td>0</td>\n",
       "      <td>0</td>\n",
       "      <td>0</td>\n",
       "      <td>...</td>\n",
       "      <td>0</td>\n",
       "      <td>0</td>\n",
       "      <td>0</td>\n",
       "      <td>0</td>\n",
       "      <td>0</td>\n",
       "      <td>0</td>\n",
       "      <td>0</td>\n",
       "      <td>0</td>\n",
       "      <td>0</td>\n",
       "      <td>0</td>\n",
       "    </tr>\n",
       "    <tr>\n",
       "      <th>2</th>\n",
       "      <td>Trail</td>\n",
       "      <td>0</td>\n",
       "      <td>0</td>\n",
       "      <td>Major Multi-use Pathway</td>\n",
       "      <td>0.00</td>\n",
       "      <td>1</td>\n",
       "      <td>0</td>\n",
       "      <td>0</td>\n",
       "      <td>0</td>\n",
       "      <td>0</td>\n",
       "      <td>...</td>\n",
       "      <td>0</td>\n",
       "      <td>0</td>\n",
       "      <td>0</td>\n",
       "      <td>0</td>\n",
       "      <td>0</td>\n",
       "      <td>0</td>\n",
       "      <td>0</td>\n",
       "      <td>0</td>\n",
       "      <td>0</td>\n",
       "      <td>0</td>\n",
       "    </tr>\n",
       "    <tr>\n",
       "      <th>3</th>\n",
       "      <td>Arterial</td>\n",
       "      <td>60</td>\n",
       "      <td>4</td>\n",
       "      <td>NaN</td>\n",
       "      <td>37.62</td>\n",
       "      <td>3</td>\n",
       "      <td>0</td>\n",
       "      <td>1</td>\n",
       "      <td>0</td>\n",
       "      <td>0</td>\n",
       "      <td>...</td>\n",
       "      <td>0</td>\n",
       "      <td>0</td>\n",
       "      <td>0</td>\n",
       "      <td>1</td>\n",
       "      <td>0</td>\n",
       "      <td>0</td>\n",
       "      <td>40</td>\n",
       "      <td>16</td>\n",
       "      <td>4</td>\n",
       "      <td>0</td>\n",
       "    </tr>\n",
       "    <tr>\n",
       "      <th>4</th>\n",
       "      <td>Local</td>\n",
       "      <td>50</td>\n",
       "      <td>2</td>\n",
       "      <td>NaN</td>\n",
       "      <td>50.00</td>\n",
       "      <td>2</td>\n",
       "      <td>0</td>\n",
       "      <td>0</td>\n",
       "      <td>0</td>\n",
       "      <td>0</td>\n",
       "      <td>...</td>\n",
       "      <td>0</td>\n",
       "      <td>0</td>\n",
       "      <td>1</td>\n",
       "      <td>0</td>\n",
       "      <td>0</td>\n",
       "      <td>0</td>\n",
       "      <td>40</td>\n",
       "      <td>10</td>\n",
       "      <td>0</td>\n",
       "      <td>0</td>\n",
       "    </tr>\n",
       "    <tr>\n",
       "      <th>...</th>\n",
       "      <td>...</td>\n",
       "      <td>...</td>\n",
       "      <td>...</td>\n",
       "      <td>...</td>\n",
       "      <td>...</td>\n",
       "      <td>...</td>\n",
       "      <td>...</td>\n",
       "      <td>...</td>\n",
       "      <td>...</td>\n",
       "      <td>...</td>\n",
       "      <td>...</td>\n",
       "      <td>...</td>\n",
       "      <td>...</td>\n",
       "      <td>...</td>\n",
       "      <td>...</td>\n",
       "      <td>...</td>\n",
       "      <td>...</td>\n",
       "      <td>...</td>\n",
       "      <td>...</td>\n",
       "      <td>...</td>\n",
       "      <td>...</td>\n",
       "    </tr>\n",
       "    <tr>\n",
       "      <th>41528</th>\n",
       "      <td>Arterial</td>\n",
       "      <td>50</td>\n",
       "      <td>4</td>\n",
       "      <td>NaN</td>\n",
       "      <td>49.54</td>\n",
       "      <td>4</td>\n",
       "      <td>0</td>\n",
       "      <td>1</td>\n",
       "      <td>0</td>\n",
       "      <td>0</td>\n",
       "      <td>...</td>\n",
       "      <td>0</td>\n",
       "      <td>0</td>\n",
       "      <td>1</td>\n",
       "      <td>0</td>\n",
       "      <td>0</td>\n",
       "      <td>0</td>\n",
       "      <td>40</td>\n",
       "      <td>10</td>\n",
       "      <td>0</td>\n",
       "      <td>0</td>\n",
       "    </tr>\n",
       "    <tr>\n",
       "      <th>41529</th>\n",
       "      <td>Arterial</td>\n",
       "      <td>60</td>\n",
       "      <td>5</td>\n",
       "      <td>NaN</td>\n",
       "      <td>58.89</td>\n",
       "      <td>4</td>\n",
       "      <td>0</td>\n",
       "      <td>1</td>\n",
       "      <td>0</td>\n",
       "      <td>0</td>\n",
       "      <td>...</td>\n",
       "      <td>0</td>\n",
       "      <td>0</td>\n",
       "      <td>0</td>\n",
       "      <td>1</td>\n",
       "      <td>0</td>\n",
       "      <td>0</td>\n",
       "      <td>40</td>\n",
       "      <td>16</td>\n",
       "      <td>4</td>\n",
       "      <td>0</td>\n",
       "    </tr>\n",
       "    <tr>\n",
       "      <th>41530</th>\n",
       "      <td>Other</td>\n",
       "      <td>40</td>\n",
       "      <td>2</td>\n",
       "      <td>NaN</td>\n",
       "      <td>40.00</td>\n",
       "      <td>1</td>\n",
       "      <td>0</td>\n",
       "      <td>0</td>\n",
       "      <td>0</td>\n",
       "      <td>0</td>\n",
       "      <td>...</td>\n",
       "      <td>0</td>\n",
       "      <td>1</td>\n",
       "      <td>0</td>\n",
       "      <td>0</td>\n",
       "      <td>0</td>\n",
       "      <td>0</td>\n",
       "      <td>40</td>\n",
       "      <td>0</td>\n",
       "      <td>0</td>\n",
       "      <td>0</td>\n",
       "    </tr>\n",
       "    <tr>\n",
       "      <th>41531</th>\n",
       "      <td>Arterial</td>\n",
       "      <td>60</td>\n",
       "      <td>4</td>\n",
       "      <td>NaN</td>\n",
       "      <td>41.29</td>\n",
       "      <td>4</td>\n",
       "      <td>0</td>\n",
       "      <td>1</td>\n",
       "      <td>0</td>\n",
       "      <td>0</td>\n",
       "      <td>...</td>\n",
       "      <td>0</td>\n",
       "      <td>0</td>\n",
       "      <td>0</td>\n",
       "      <td>1</td>\n",
       "      <td>0</td>\n",
       "      <td>0</td>\n",
       "      <td>40</td>\n",
       "      <td>16</td>\n",
       "      <td>4</td>\n",
       "      <td>0</td>\n",
       "    </tr>\n",
       "    <tr>\n",
       "      <th>41532</th>\n",
       "      <td>Trail</td>\n",
       "      <td>0</td>\n",
       "      <td>0</td>\n",
       "      <td>NaN</td>\n",
       "      <td>0.00</td>\n",
       "      <td>1</td>\n",
       "      <td>0</td>\n",
       "      <td>0</td>\n",
       "      <td>0</td>\n",
       "      <td>0</td>\n",
       "      <td>...</td>\n",
       "      <td>0</td>\n",
       "      <td>0</td>\n",
       "      <td>0</td>\n",
       "      <td>0</td>\n",
       "      <td>0</td>\n",
       "      <td>0</td>\n",
       "      <td>0</td>\n",
       "      <td>0</td>\n",
       "      <td>0</td>\n",
       "      <td>0</td>\n",
       "    </tr>\n",
       "  </tbody>\n",
       "</table>\n",
       "<p>41533 rows × 30 columns</p>\n",
       "</div>"
      ],
      "text/plain": [
       "      road_type  speed_limit  nlanes              infras_type  speed_actual  \\\n",
       "0         Trail            0       0  Major Multi-use Pathway          0.00   \n",
       "1         Other            0       2                      NaN          0.00   \n",
       "2         Trail            0       0  Major Multi-use Pathway          0.00   \n",
       "3      Arterial           60       4                      NaN         37.62   \n",
       "4         Local           50       2                      NaN         50.00   \n",
       "...         ...          ...     ...                      ...           ...   \n",
       "41528  Arterial           50       4                      NaN         49.54   \n",
       "41529  Arterial           60       5                      NaN         58.89   \n",
       "41530     Other           40       2                      NaN         40.00   \n",
       "41531  Arterial           60       4                      NaN         41.29   \n",
       "41532     Trail            0       0                      NaN          0.00   \n",
       "\n",
       "       lts  Access Road  Arterial  Collector  Laneway  ...  30  40  50  60  \\\n",
       "0        1            0         0          0        0  ...   0   0   0   0   \n",
       "1        1            0         0          0        0  ...   0   0   0   0   \n",
       "2        1            0         0          0        0  ...   0   0   0   0   \n",
       "3        3            0         1          0        0  ...   0   0   0   1   \n",
       "4        2            0         0          0        0  ...   0   0   1   0   \n",
       "...    ...          ...       ...        ...      ...  ...  ..  ..  ..  ..   \n",
       "41528    4            0         1          0        0  ...   0   0   1   0   \n",
       "41529    4            0         1          0        0  ...   0   0   0   1   \n",
       "41530    1            0         0          0        0  ...   0   1   0   0   \n",
       "41531    4            0         1          0        0  ...   0   0   0   1   \n",
       "41532    1            0         0          0        0  ...   0   0   0   0   \n",
       "\n",
       "       70  80  s_leq_40  s_leq_56  s_geq_56  infras_binary  \n",
       "0       0   0         0         0         0              0  \n",
       "1       0   0         0         0         0              0  \n",
       "2       0   0         0         0         0              0  \n",
       "3       0   0        40        16         4              0  \n",
       "4       0   0        40        10         0              0  \n",
       "...    ..  ..       ...       ...       ...            ...  \n",
       "41528   0   0        40        10         0              0  \n",
       "41529   0   0        40        16         4              0  \n",
       "41530   0   0        40         0         0              0  \n",
       "41531   0   0        40        16         4              0  \n",
       "41532   0   0         0         0         0              0  \n",
       "\n",
       "[41533 rows x 30 columns]"
      ]
     },
     "execution_count": 249,
     "metadata": {},
     "output_type": "execute_result"
    }
   ],
   "source": [
    "cp_mapping = {val: 0 for val in df['infras_type'].unique()}\n",
    "cp_mapping['Bike Lanes'] = 1\n",
    "cp_mapping['Cycle Tracks'] = 1\n",
    "df['infras_binary'] = df['infras_type'].replace(cp_mapping)\n",
    "df.index = range(len(df))\n",
    "df"
   ]
  },
  {
   "cell_type": "markdown",
   "id": "b5b674f3",
   "metadata": {},
   "source": [
    "# Save data"
   ]
  },
  {
   "cell_type": "code",
   "execution_count": 300,
   "id": "2d6b749d",
   "metadata": {},
   "outputs": [],
   "source": [
    "road_type = df[['Access Road', 'Arterial', 'Collector', 'Laneway', 'Local', 'Other', 'Ramp', 'Trail', 'Walkway']].values\n",
    "speed_lmt = df['speed_limit'].values\n",
    "speed_lmt_onehot = df[[0, 10, 15, 20, 25, 30, 40, 50, 60, 70, 80]].astype(int).values\n",
    "speed_lmt_thred = df[['s_leq_40', 's_leq_56', 's_geq_56']].values\n",
    "n_lanes = df['nlanes'].values\n",
    "infras = df['infras_binary'].values\n",
    "speed_actual = np.round(df['speed_actual'].values, 4)"
   ]
  },
  {
   "cell_type": "code",
   "execution_count": 98,
   "id": "43f5c5b6",
   "metadata": {},
   "outputs": [],
   "source": [
    "np.savetxt('./data/road/road_type.txt', road_type, delimiter=',')\n",
    "np.savetxt('./data/road/speed_limit.txt', speed_lmt, delimiter=',')\n",
    "np.savetxt('./data/road/speed_limit_onehot.txt', speed_lmt_onehot, delimiter=',')\n",
    "np.savetxt('./data/road/speed_limit_thred.txt', speed_lmt_thred, delimiter=',')\n",
    "np.savetxt('./data/road/n_lanes.txt', n_lanes, delimiter=',')\n",
    "np.savetxt('./data/road/n_lanes_onehot.txt', n_lanes_onehot, delimiter=',')\n",
    "np.savetxt('./data/road/cyc_infras.txt', infras, delimiter=',')\n",
    "np.savetxt('./data/road/speed_actual.txt', speed_actual, delimiter=',')"
   ]
  },
  {
   "cell_type": "code",
   "execution_count": 322,
   "id": "0f0d77f9",
   "metadata": {},
   "outputs": [
    {
     "data": {
      "text/plain": [
       "array([[1., 0., 0., ..., 0., 0., 0.],\n",
       "       [0., 0., 1., ..., 0., 0., 0.],\n",
       "       [1., 0., 0., ..., 0., 0., 0.],\n",
       "       ...,\n",
       "       [0., 0., 1., ..., 0., 0., 0.],\n",
       "       [0., 0., 0., ..., 0., 0., 0.],\n",
       "       [1., 0., 0., ..., 0., 0., 0.]])"
      ]
     },
     "execution_count": 322,
     "metadata": {},
     "output_type": "execute_result"
    }
   ],
   "source": [
    "np.loadtxt('./data/road/n_lanes_onehot.txt', delimiter=',')"
   ]
  },
  {
   "cell_type": "code",
   "execution_count": 319,
   "id": "592457c9",
   "metadata": {},
   "outputs": [],
   "source": [
    "np.savetxt('./data/road/n_lanes_onehot.txt', n_lanes_onehot, delimiter=',')"
   ]
  },
  {
   "cell_type": "code",
   "execution_count": 254,
   "id": "ea25f467",
   "metadata": {},
   "outputs": [],
   "source": [
    "df.to_csv('./data/network/feature_final.csv', index=False)"
   ]
  },
  {
   "cell_type": "code",
   "execution_count": 272,
   "id": "a3ea8921",
   "metadata": {},
   "outputs": [
    {
     "data": {
      "text/plain": [
       "array([ 0.  ,  0.  ,  0.  , ..., 40.  , 41.29,  0.  ])"
      ]
     },
     "execution_count": 272,
     "metadata": {},
     "output_type": "execute_result"
    }
   ],
   "source": [
    "np.genfromtxt('./data/road/speed_actual.txt')"
   ]
  },
  {
   "cell_type": "markdown",
   "id": "cfe46db1",
   "metadata": {},
   "source": [
    "# Naive Attri Pred Baseline"
   ]
  },
  {
   "cell_type": "code",
   "execution_count": 328,
   "id": "ee75b316",
   "metadata": {},
   "outputs": [
    {
     "data": {
      "text/plain": [
       "0.49064599234343775"
      ]
     },
     "execution_count": 328,
     "metadata": {},
     "output_type": "execute_result"
    }
   ],
   "source": [
    "# road type\n",
    "np.max(road_type.sum(axis=0)) / len(road_type)"
   ]
  },
  {
   "cell_type": "code",
   "execution_count": 331,
   "id": "e11aa441",
   "metadata": {},
   "outputs": [
    {
     "data": {
      "text/plain": [
       "0.974983747863145"
      ]
     },
     "execution_count": 331,
     "metadata": {},
     "output_type": "execute_result"
    }
   ],
   "source": [
    "# Cyc Infras\n",
    "(infras == 0).sum() / len(infras)"
   ]
  },
  {
   "cell_type": "code",
   "execution_count": 337,
   "id": "06bd5185",
   "metadata": {},
   "outputs": [
    {
     "name": "stdout",
     "output_type": "stream",
     "text": [
      "acc 0.6777020682348975\n",
      "mae 0.606457515710399\n",
      "mae 1.3522259408181445\n"
     ]
    }
   ],
   "source": [
    "# n lanes onehot\n",
    "print('acc', np.max(n_lanes_onehot.sum(axis=0)) / len(n_lanes_onehot))\n",
    "maj = np.argmax(n_lanes_onehot.sum(axis=0))\n",
    "print('mae', np.abs(n_lanes - maj).mean())\n",
    "print('mae', ((n_lanes - maj) ** 2).mean())"
   ]
  },
  {
   "cell_type": "code",
   "execution_count": 339,
   "id": "8bc5e9c1",
   "metadata": {},
   "outputs": [
    {
     "name": "stdout",
     "output_type": "stream",
     "text": [
      "mae 35.51543399224713\n",
      "mae 1262.6980401478418\n"
     ]
    }
   ],
   "source": [
    "# speed actual\n",
    "mean_speed = speed_actual.mean()\n",
    "print('mae', np.abs(n_lanes - mean_speed).mean())\n",
    "print('mae', ((n_lanes - mean_speed) ** 2).mean())"
   ]
  },
  {
   "cell_type": "markdown",
   "id": "24686718",
   "metadata": {},
   "source": [
    "# Train Test Split"
   ]
  },
  {
   "cell_type": "code",
   "execution_count": 255,
   "id": "c31f9459",
   "metadata": {},
   "outputs": [],
   "source": [
    "def load_data(df, features):\n",
    "    f2c = {'speed_limit': ['speed_limit'], 'nlanes': ['nlanes'],\n",
    "           'speed_limit_onehot': [0, 10, 15, 20, 25, 30, 40, 50, 60, 70, 80],\n",
    "           'road_type': ['Access Road', 'Arterial', 'Collector', 'Laneway', 'Local', 'Other', 'Ramp', 'Trail', 'Walkway'],\n",
    "           'infras': ['infras_binary'],\n",
    "           'speed_actual': ['speed_actual']}\n",
    "    cols = []\n",
    "    for f in features:\n",
    "        cols += f2c[f]\n",
    "    return df[cols], df['lts']"
   ]
  },
  {
   "cell_type": "code",
   "execution_count": 24,
   "id": "736d32e6",
   "metadata": {},
   "outputs": [],
   "source": [
    "def load_emb(encoder_name, purpose):\n",
    "    root = '/Users/bolin/Library/CloudStorage/OneDrive-UniversityofToronto/AutoLTS/'\n",
    "    X = np.loadtxt(f'{root}/emb/{encoder_name}_{purpose}.txt', delimiter=',').astype(float)\n",
    "    y = np.loadtxt(f'{root}/data/LTS/lts_labels.txt').astype(int)\n",
    "    indi = np.loadtxt(f'{root}/data/{purpose}_idx.txt').astype(int)\n",
    "    y = y[indi]\n",
    "    return X, y"
   ]
  },
  {
   "cell_type": "code",
   "execution_count": 256,
   "id": "d80ebc9d",
   "metadata": {},
   "outputs": [],
   "source": [
    "indi_train = np.loadtxt(f'./data/training_idx.txt').astype(int)\n",
    "indi_vali = np.loadtxt(f'./data/validation_idx.txt').astype(int)\n",
    "# indi_train = np.concatenate([indi_train, indi_vali])\n",
    "indi_test = np.loadtxt(f'./data/test_idx.txt').astype(int)"
   ]
  },
  {
   "cell_type": "code",
   "execution_count": 257,
   "id": "ce8e8cb4",
   "metadata": {},
   "outputs": [],
   "source": [
    "def model_eval(y_true, y_pred):\n",
    "    # acc\n",
    "    acc = (y_pred == y_true).sum() / y_true.shape[0] * 100\n",
    "    # h/l acc\n",
    "    flag_pred = (y_pred <= 2)\n",
    "    flag_true = (y_true <= 2)\n",
    "    hl_acc = (flag_pred == flag_true).sum() / y_true.shape[0] * 100\n",
    "    # mae\n",
    "    mae = np.abs(y_true - y_pred).mean()\n",
    "    # mse\n",
    "    mse = ((y_true - y_pred) ** 2).mean()\n",
    "    # kt\n",
    "    pred_mat = np.sign(y_pred.reshape((-1, 1)) - y_pred.reshape((1, -1)))\n",
    "    true_mat = np.sign(y_true.reshape((-1, 1)) - y_true.reshape((1, -1)))\n",
    "    kt = ((pred_mat == true_mat).sum() - y_true.shape[0])/2\n",
    "    kt /= ((y_pred.shape[0] - 1)** 2)\n",
    "    # flr\n",
    "    n_high_stress = (y_true >= 3).sum()\n",
    "    false_low_stress = ((y_pred <= 2) * (y_true >= 3)).sum()\n",
    "    flr = false_low_stress / n_high_stress * 100\n",
    "    # fhr\n",
    "    n_low_stress = (y_true <= 2).sum()\n",
    "    false_high_stress = ((y_pred >= 3) * (y_true <= 2)).sum()\n",
    "    fhr = false_high_stress / n_low_stress * 100\n",
    "    # record generation\n",
    "    return pd.Series([acc, hl_acc, flr, fhr, kt], index=['Accuracy', 'H/L Accuracy', 'FLR', 'FHR', 'KT']).round(2)"
   ]
  },
  {
   "cell_type": "markdown",
   "id": "5fe16d71",
   "metadata": {},
   "source": [
    "# CART - speed actual + lanes + road type + cyc infras"
   ]
  },
  {
   "cell_type": "code",
   "execution_count": 264,
   "id": "7dc6ba2b",
   "metadata": {},
   "outputs": [],
   "source": [
    "X, y = load_data(df, ['infras', 'road_type', 'speed_actual', 'nlanes'])\n",
    "X_train = X.iloc[indi_train, :]\n",
    "y_train = y.iloc[indi_train]\n",
    "X_test = X.iloc[indi_test, :]\n",
    "y_test = y.iloc[indi_test]"
   ]
  },
  {
   "cell_type": "code",
   "execution_count": 265,
   "id": "5a3a3692",
   "metadata": {},
   "outputs": [
    {
     "data": {
      "text/plain": [
       "(0.95968183310833, 0.9550485271581816)"
      ]
     },
     "execution_count": 265,
     "metadata": {},
     "output_type": "execute_result"
    }
   ],
   "source": [
    "clf = DecisionTreeClassifier(random_state=0, max_depth=10)\n",
    "clf.fit(X_train, y_train)\n",
    "clf.score(X_train, y_train), clf.score(X_test, y_test)"
   ]
  },
  {
   "cell_type": "code",
   "execution_count": 266,
   "id": "21e806d7",
   "metadata": {},
   "outputs": [
    {
     "data": {
      "text/plain": [
       "array([[0.98089701, 0.00830565, 0.00872093, 0.00207641],\n",
       "       [0.01466993, 0.95305623, 0.03227384, 0.        ],\n",
       "       [0.04737516, 0.04993598, 0.90012804, 0.00256082],\n",
       "       [0.00312989, 0.0172144 , 0.0485133 , 0.93114241]])"
      ]
     },
     "execution_count": 266,
     "metadata": {},
     "output_type": "execute_result"
    }
   ],
   "source": [
    "confusion_matrix(y_test, clf.predict(X_test), normalize='true')"
   ]
  },
  {
   "cell_type": "code",
   "execution_count": 267,
   "id": "a904b851",
   "metadata": {},
   "outputs": [
    {
     "data": {
      "text/plain": [
       "Accuracy        95.50\n",
       "H/L Accuracy    96.92\n",
       "FLR              6.27\n",
       "FHR              2.07\n",
       "KT               0.47\n",
       "dtype: float64"
      ]
     },
     "execution_count": 267,
     "metadata": {},
     "output_type": "execute_result"
    }
   ],
   "source": [
    "model_eval(y_test.values, clf.predict(X_test))"
   ]
  },
  {
   "cell_type": "markdown",
   "id": "17ed86c7",
   "metadata": {},
   "source": [
    "# CART - speed actual + n lanes"
   ]
  },
  {
   "cell_type": "code",
   "execution_count": 303,
   "id": "8c8a8d95",
   "metadata": {},
   "outputs": [],
   "source": [
    "X, y = load_data(df, ['speed_actual', 'nlanes'])\n",
    "X_train = X.iloc[indi_train, :]\n",
    "y_train = y.iloc[indi_train]\n",
    "X_test = X.iloc[indi_test, :]\n",
    "y_test = y.iloc[indi_test]"
   ]
  },
  {
   "cell_type": "code",
   "execution_count": 308,
   "id": "ac912fad",
   "metadata": {},
   "outputs": [
    {
     "data": {
      "text/plain": [
       "(0.850147772466888, 0.8399455133662523)"
      ]
     },
     "execution_count": 308,
     "metadata": {},
     "output_type": "execute_result"
    }
   ],
   "source": [
    "clf = DecisionTreeClassifier(random_state=0, max_depth=10)\n",
    "clf.fit(X_train, y_train)\n",
    "clf.score(X_train, y_train), clf.score(X_test, y_test)"
   ]
  },
  {
   "cell_type": "code",
   "execution_count": 309,
   "id": "8a3c854e",
   "metadata": {},
   "outputs": [
    {
     "data": {
      "text/plain": [
       "array([[0.97383721, 0.00622924, 0.01453488, 0.00539867],\n",
       "       [0.1594132 , 0.82102689, 0.01711491, 0.00244499],\n",
       "       [0.10243278, 0.49295775, 0.38924456, 0.01536492],\n",
       "       [0.00312989, 0.0172144 , 0.03286385, 0.94679186]])"
      ]
     },
     "execution_count": 309,
     "metadata": {},
     "output_type": "execute_result"
    }
   ],
   "source": [
    "confusion_matrix(y_test, clf.predict(X_test), normalize='true')"
   ]
  },
  {
   "cell_type": "code",
   "execution_count": 310,
   "id": "8c93535d",
   "metadata": {},
   "outputs": [
    {
     "data": {
      "text/plain": [
       "Accuracy        83.99\n",
       "H/L Accuracy    90.36\n",
       "FLR             33.66\n",
       "FHR              1.98\n",
       "KT               0.41\n",
       "dtype: float64"
      ]
     },
     "execution_count": 310,
     "metadata": {},
     "output_type": "execute_result"
    }
   ],
   "source": [
    "model_eval(y_test.values, clf.predict(X_test))"
   ]
  },
  {
   "cell_type": "markdown",
   "id": "ef00ade4",
   "metadata": {},
   "source": [
    "# CART - speed limit + lanes"
   ]
  },
  {
   "cell_type": "code",
   "execution_count": 258,
   "id": "c1701032",
   "metadata": {},
   "outputs": [],
   "source": [
    "X, y = load_data(df, ['speed_limit', 'nlanes'])\n",
    "X_train = X.iloc[indi_train, :]\n",
    "y_train = y.iloc[indi_train]\n",
    "X_test = X.iloc[indi_test, :]\n",
    "y_test = y.iloc[indi_test]"
   ]
  },
  {
   "cell_type": "code",
   "execution_count": 259,
   "id": "fa7ce22f",
   "metadata": {},
   "outputs": [
    {
     "data": {
      "text/plain": [
       "(0.797205093589229, 0.7905670015324365)"
      ]
     },
     "execution_count": 259,
     "metadata": {},
     "output_type": "execute_result"
    }
   ],
   "source": [
    "clf = DecisionTreeClassifier(random_state=0, max_depth=10)\n",
    "clf.fit(X_train, y_train)\n",
    "clf.score(X_train, y_train), clf.score(X_test, y_test)"
   ]
  },
  {
   "cell_type": "code",
   "execution_count": 33,
   "id": "86e198b2",
   "metadata": {},
   "outputs": [
    {
     "data": {
      "text/plain": [
       "array([[9.72591362e-01, 1.49501661e-02, 8.30564784e-04, 1.16279070e-02],\n",
       "       [1.68215159e-01, 8.22493888e-01, 9.77995110e-04, 8.31295844e-03],\n",
       "       [1.44686300e-01, 5.68501921e-01, 2.04865557e-02, 2.66325224e-01],\n",
       "       [1.09546166e-02, 4.06885759e-02, 4.69483568e-03, 9.43661972e-01]])"
      ]
     },
     "execution_count": 33,
     "metadata": {},
     "output_type": "execute_result"
    }
   ],
   "source": [
    "confusion_matrix(y_test, clf.predict(X_test), normalize='true')"
   ]
  },
  {
   "cell_type": "code",
   "execution_count": 34,
   "id": "ef185b69",
   "metadata": {},
   "outputs": [
    {
     "data": {
      "text/plain": [
       "Accuracy        79.06\n",
       "H/L Accuracy    89.12\n",
       "FLR             41.55\n",
       "FHR              1.10\n",
       "KT               0.40\n",
       "dtype: float64"
      ]
     },
     "execution_count": 34,
     "metadata": {},
     "output_type": "execute_result"
    }
   ],
   "source": [
    "model_eval(y_test.values, clf.predict(X_test))"
   ]
  },
  {
   "cell_type": "markdown",
   "id": "077971b0",
   "metadata": {},
   "source": [
    "## Grid Search"
   ]
  },
  {
   "cell_type": "code",
   "execution_count": 150,
   "id": "5339e160",
   "metadata": {},
   "outputs": [
    {
     "data": {
      "text/plain": [
       "{'criterion': 'gini', 'max_depth': 6, 'min_samples_split': 0.01}"
      ]
     },
     "execution_count": 150,
     "metadata": {},
     "output_type": "execute_result"
    }
   ],
   "source": [
    "dt_clf = DecisionTreeClassifier(random_state=0)\n",
    "params = {'criterion': ['gini', 'entropy'],\n",
    "          'max_depth': [1, 2, 3, 4, 5, 6, 7, 8, 9, 10],\n",
    "          'min_samples_split': [0.01, 0.03, 0.05, 0.1, 0.15, 0.2]}\n",
    "\n",
    "clf = GridSearchCV(dt_clf, params, cv=5)\n",
    "search = clf.fit(X_train, y_train)\n",
    "search.best_params_"
   ]
  },
  {
   "cell_type": "code",
   "execution_count": 151,
   "id": "11871505",
   "metadata": {},
   "outputs": [
    {
     "data": {
      "text/plain": [
       "(0.7522895610610428, 0.743231738464158)"
      ]
     },
     "execution_count": 151,
     "metadata": {},
     "output_type": "execute_result"
    }
   ],
   "source": [
    "dt_clf = DecisionTreeClassifier(random_state=0, criterion='gini', max_depth=6, min_samples_split=0.01)\n",
    "dt_clf.fit(X_train, y_train)\n",
    "dt_clf.score(X_train, y_train), clf.score(X_test, y_test)"
   ]
  },
  {
   "cell_type": "code",
   "execution_count": 152,
   "id": "420b73ea",
   "metadata": {},
   "outputs": [
    {
     "data": {
      "text/plain": [
       "Accuracy        74.32\n",
       "H/L Accuracy    82.55\n",
       "FLR             71.13\n",
       "FHR              0.34\n",
       "KT               0.36\n",
       "dtype: float64"
      ]
     },
     "execution_count": 152,
     "metadata": {},
     "output_type": "execute_result"
    }
   ],
   "source": [
    "model_eval(y_test.values, clf.predict(X_test))"
   ]
  },
  {
   "cell_type": "markdown",
   "id": "073297dd",
   "metadata": {},
   "source": [
    "# CART - Type + Cycle"
   ]
  },
  {
   "cell_type": "code",
   "execution_count": 153,
   "id": "28278e73",
   "metadata": {},
   "outputs": [],
   "source": [
    "X, y = load_data(df, ['infras', 'road_type'])\n",
    "X_train = X.iloc[indi_train, :]\n",
    "y_train = y.iloc[indi_train]\n",
    "X_test = X.iloc[indi_test, :]\n",
    "y_test = y.iloc[indi_test]"
   ]
  },
  {
   "cell_type": "code",
   "execution_count": 154,
   "id": "7c688c17",
   "metadata": {},
   "outputs": [
    {
     "data": {
      "text/plain": [
       "(0.5718247163133506, 0.575174527498723)"
      ]
     },
     "execution_count": 154,
     "metadata": {},
     "output_type": "execute_result"
    }
   ],
   "source": [
    "clf = DecisionTreeClassifier(random_state=0, max_depth=10)\n",
    "clf.fit(X_train, y_train)\n",
    "clf.score(X_train, y_train), clf.score(X_test, y_test)"
   ]
  },
  {
   "cell_type": "code",
   "execution_count": 155,
   "id": "bd22ed0f",
   "metadata": {},
   "outputs": [
    {
     "data": {
      "text/plain": [
       "array([[0.34260797, 0.62167774, 0.02491694, 0.01079734],\n",
       "       [0.01515892, 0.79217604, 0.15207824, 0.0405868 ],\n",
       "       [0.04993598, 0.05633803, 0.45070423, 0.44302177],\n",
       "       [0.01408451, 0.03442879, 0.04225352, 0.90923318]])"
      ]
     },
     "execution_count": 155,
     "metadata": {},
     "output_type": "execute_result"
    }
   ],
   "source": [
    "confusion_matrix(y_test, clf.predict(X_test), normalize='true')"
   ]
  },
  {
   "cell_type": "markdown",
   "id": "917d222e",
   "metadata": {},
   "source": [
    "## Grid Search"
   ]
  },
  {
   "cell_type": "code",
   "execution_count": 156,
   "id": "3ba0d56c",
   "metadata": {},
   "outputs": [
    {
     "data": {
      "text/plain": [
       "{'criterion': 'gini', 'max_depth': 5, 'min_samples_split': 0.05}"
      ]
     },
     "execution_count": 156,
     "metadata": {},
     "output_type": "execute_result"
    }
   ],
   "source": [
    "dt_clf = DecisionTreeClassifier(random_state=0)\n",
    "params = {'criterion': ['gini', 'entropy'],\n",
    "          'max_depth': [1, 2, 3, 4, 5, 6, 7, 8, 9, 10],\n",
    "          'min_samples_split': [0.01, 0.03, 0.05, 0.1, 0.15, 0.2]}\n",
    "\n",
    "clf = GridSearchCV(dt_clf, params, cv=5)\n",
    "search = clf.fit(X_train, y_train)\n",
    "search.best_params_"
   ]
  },
  {
   "cell_type": "code",
   "execution_count": 158,
   "id": "f4f86710",
   "metadata": {},
   "outputs": [
    {
     "data": {
      "text/plain": [
       "(0.5717152552267669, 0.5750042567682615)"
      ]
     },
     "execution_count": 158,
     "metadata": {},
     "output_type": "execute_result"
    }
   ],
   "source": [
    "dt_clf = DecisionTreeClassifier(random_state=0, criterion='gini', max_depth=5, min_samples_split=0.05)\n",
    "dt_clf.fit(X_train, y_train)\n",
    "dt_clf.score(X_train, y_train), clf.score(X_test, y_test)"
   ]
  },
  {
   "cell_type": "code",
   "execution_count": 159,
   "id": "b9f16dc1",
   "metadata": {},
   "outputs": [
    {
     "data": {
      "text/plain": [
       "Accuracy        57.50\n",
       "H/L Accuracy    89.87\n",
       "FLR              8.17\n",
       "FHR             10.76\n",
       "KT               0.33\n",
       "dtype: float64"
      ]
     },
     "execution_count": 159,
     "metadata": {},
     "output_type": "execute_result"
    }
   ],
   "source": [
    "model_eval(y_test.values, clf.predict(X_test))"
   ]
  },
  {
   "cell_type": "markdown",
   "id": "2f1b455c",
   "metadata": {},
   "source": [
    "# Random Forest - speed + nlanes"
   ]
  },
  {
   "cell_type": "code",
   "execution_count": 35,
   "id": "eb859afa",
   "metadata": {},
   "outputs": [],
   "source": [
    "X, y = load_data(df, ['speed_limit', 'nlanes'])\n",
    "X_train = X.iloc[indi_train, :]\n",
    "y_train = y.iloc[indi_train]\n",
    "X_test = X.iloc[indi_test, :]\n",
    "y_test = y.iloc[indi_test]"
   ]
  },
  {
   "cell_type": "code",
   "execution_count": 52,
   "id": "3c768848",
   "metadata": {},
   "outputs": [
    {
     "data": {
      "text/plain": [
       "(0.797205093589229, 0.7902264600715138)"
      ]
     },
     "execution_count": 52,
     "metadata": {},
     "output_type": "execute_result"
    }
   ],
   "source": [
    "clf = RandomForestClassifier(random_state=0, n_estimators=50, max_depth=6)\n",
    "clf.fit(X_train, y_train)\n",
    "clf.score(X_train, y_train), clf.score(X_test, y_test)"
   ]
  },
  {
   "cell_type": "code",
   "execution_count": 53,
   "id": "2620e578",
   "metadata": {},
   "outputs": [
    {
     "data": {
      "text/plain": [
       "Accuracy        79.02\n",
       "H/L Accuracy    89.12\n",
       "FLR             41.55\n",
       "FHR              1.10\n",
       "KT               0.40\n",
       "dtype: float64"
      ]
     },
     "execution_count": 53,
     "metadata": {},
     "output_type": "execute_result"
    }
   ],
   "source": [
    "model_eval(y_test.values, clf.predict(X_test))"
   ]
  },
  {
   "cell_type": "markdown",
   "id": "e4aa1109",
   "metadata": {},
   "source": [
    "# Random Forest - road type + cyc infras"
   ]
  },
  {
   "cell_type": "markdown",
   "id": "b92bada8",
   "metadata": {},
   "source": [
    "## Naive"
   ]
  },
  {
   "cell_type": "code",
   "execution_count": null,
   "id": "a1e063fc",
   "metadata": {},
   "outputs": [],
   "source": [
    "X, y = load_data(df, ['infras', 'road_type'])\n",
    "X_train = X.iloc[indi_train, :]\n",
    "y_train = y.iloc[indi_train]\n",
    "X_test = X.iloc[indi_test, :]\n",
    "y_test = y.iloc[indi_test]"
   ]
  },
  {
   "cell_type": "code",
   "execution_count": 164,
   "id": "62db65a6",
   "metadata": {},
   "outputs": [
    {
     "data": {
      "text/plain": [
       "(0.5718247163133506, 0.575174527498723)"
      ]
     },
     "execution_count": 164,
     "metadata": {},
     "output_type": "execute_result"
    }
   ],
   "source": [
    "clf = RandomForestClassifier(random_state=0, n_estimators=100)\n",
    "clf.fit(X_train, y_train)\n",
    "clf.score(X_train, y_train), clf.score(X_test, y_test)"
   ]
  },
  {
   "cell_type": "markdown",
   "id": "a0ca7101",
   "metadata": {},
   "source": [
    "## Grid Search"
   ]
  },
  {
   "cell_type": "code",
   "execution_count": null,
   "id": "6c0385df",
   "metadata": {},
   "outputs": [],
   "source": [
    "rf_clf = RandomForestClassifier(random_state=0)\n",
    "params = {'criterion': ['gini', 'entropy'],\n",
    "          'max_depth': [1, 2, 3, 4, 5, 6, 7, 8, 9, 10],\n",
    "          'min_samples_split': [0.01, 0.03, 0.05, 0.1, 0.15, 0.2],\n",
    "          'max_features': ['sqrt', 'log2'],\n",
    "          'n_estimators': [10, 30, 50, 70, 100, 130, 150, 170, 200]}\n",
    "\n",
    "clf = GridSearchCV(rf_clf, params, cv=5)\n",
    "search = clf.fit(X_train, y_train)\n",
    "search.best_params_"
   ]
  },
  {
   "cell_type": "code",
   "execution_count": 163,
   "id": "208c4408",
   "metadata": {},
   "outputs": [
    {
     "data": {
      "text/plain": [
       "(0.5717152552267669, 0.5748339860378001)"
      ]
     },
     "execution_count": 163,
     "metadata": {},
     "output_type": "execute_result"
    }
   ],
   "source": [
    "clf = RandomForestClassifier(random_state=0, n_estimators=10, max_features='sqrt', min_samples_split=0.03, max_depth=6, criterion='gini')\n",
    "clf.fit(X_train, y_train)\n",
    "clf.score(X_train, y_train), clf.score(X_test, y_test)"
   ]
  },
  {
   "cell_type": "code",
   "execution_count": 165,
   "id": "29341891",
   "metadata": {},
   "outputs": [
    {
     "data": {
      "text/plain": [
       "Accuracy        57.52\n",
       "H/L Accuracy    89.89\n",
       "FLR              8.03\n",
       "FHR             10.78\n",
       "KT               0.33\n",
       "dtype: float64"
      ]
     },
     "execution_count": 165,
     "metadata": {},
     "output_type": "execute_result"
    }
   ],
   "source": [
    "model_eval(y_test.values, clf.predict(X_test))"
   ]
  },
  {
   "cell_type": "code",
   "execution_count": null,
   "id": "9b3f56da",
   "metadata": {},
   "outputs": [],
   "source": []
  }
 ],
 "metadata": {
  "kernelspec": {
   "display_name": "Python 3 (ipykernel)",
   "language": "python",
   "name": "python3"
  },
  "language_info": {
   "codemirror_mode": {
    "name": "ipython",
    "version": 3
   },
   "file_extension": ".py",
   "mimetype": "text/x-python",
   "name": "python",
   "nbconvert_exporter": "python",
   "pygments_lexer": "ipython3",
   "version": "3.9.12"
  }
 },
 "nbformat": 4,
 "nbformat_minor": 5
}
