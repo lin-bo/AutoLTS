{
 "cells": [
  {
   "cell_type": "code",
   "execution_count": 55,
   "id": "a15449c3",
   "metadata": {},
   "outputs": [],
   "source": [
    "import numpy as np\n",
    "import geopandas as gpd\n",
    "import pandas as pd\n",
    "\n",
    "from sklearn.tree import DecisionTreeClassifier\n",
    "from sklearn.ensemble import RandomForestClassifier\n",
    "\n",
    "from sklearn.model_selection import GridSearchCV\n",
    "from sklearn.metrics import confusion_matrix\n",
    "from sklearn.tree import export_graphviz\n",
    "from IPython.display import SVG\n",
    "from graphviz import Source"
   ]
  },
  {
   "cell_type": "code",
   "execution_count": 5,
   "id": "94cf1688",
   "metadata": {},
   "outputs": [],
   "source": [
    "def missing_and_unique(df, col):\n",
    "    n_missing = df[col].isna().sum()\n",
    "    unique_vals = df[col].unique()\n",
    "    print(f'Number of missing values: {n_missing}')\n",
    "    print(f'Number of unique values: {len(unique_vals)}')\n",
    "    print('They are:', unique_vals)"
   ]
  },
  {
   "cell_type": "markdown",
   "id": "4d215af6",
   "metadata": {},
   "source": [
    "# Pre-Processing"
   ]
  },
  {
   "cell_type": "code",
   "execution_count": 6,
   "id": "45026e97",
   "metadata": {},
   "outputs": [],
   "source": [
    "# read files\n",
    "df_filtered = gpd.read_file('./data/network/trt_network_filtered.shp')\n",
    "df_easy_features = gpd.read_file('./data/network/network_w_easy_features.shp')"
   ]
  },
  {
   "cell_type": "code",
   "execution_count": 7,
   "id": "2cd9378b",
   "metadata": {},
   "outputs": [],
   "source": [
    "# process the easy feature file\n",
    "df_easy_features.loc[24513, 'LTS'] = 4\n",
    "df_easy_features = df_easy_features[df_easy_features['length_in_'] >= 50]"
   ]
  },
  {
   "cell_type": "code",
   "execution_count": 8,
   "id": "9a675351",
   "metadata": {},
   "outputs": [],
   "source": [
    "# process filtered features\n",
    "df_filtered.index = df_filtered['OBJECTID'] - 1"
   ]
  },
  {
   "cell_type": "code",
   "execution_count": 9,
   "id": "bade4973",
   "metadata": {},
   "outputs": [
    {
     "name": "stdout",
     "output_type": "stream",
     "text": [
      "Number of links in filtered: 41533, in easy: 41533\n"
     ]
    }
   ],
   "source": [
    "# file stats\n",
    "print(f'Number of links in filtered: {len(df_filtered)}, in easy: {len(df_easy_features)}')"
   ]
  },
  {
   "cell_type": "code",
   "execution_count": 10,
   "id": "0d7a9c35",
   "metadata": {},
   "outputs": [
    {
     "data": {
      "text/html": [
       "<div>\n",
       "<style scoped>\n",
       "    .dataframe tbody tr th:only-of-type {\n",
       "        vertical-align: middle;\n",
       "    }\n",
       "\n",
       "    .dataframe tbody tr th {\n",
       "        vertical-align: top;\n",
       "    }\n",
       "\n",
       "    .dataframe thead th {\n",
       "        text-align: right;\n",
       "    }\n",
       "</style>\n",
       "<table border=\"1\" class=\"dataframe\">\n",
       "  <thead>\n",
       "    <tr style=\"text-align: right;\">\n",
       "      <th></th>\n",
       "      <th>road_type</th>\n",
       "      <th>speed_limit</th>\n",
       "      <th>nlanes</th>\n",
       "      <th>infras_type</th>\n",
       "      <th>lts</th>\n",
       "    </tr>\n",
       "    <tr>\n",
       "      <th>OBJECTID</th>\n",
       "      <th></th>\n",
       "      <th></th>\n",
       "      <th></th>\n",
       "      <th></th>\n",
       "      <th></th>\n",
       "    </tr>\n",
       "  </thead>\n",
       "  <tbody>\n",
       "    <tr>\n",
       "      <th>0</th>\n",
       "      <td>Trail</td>\n",
       "      <td>0</td>\n",
       "      <td>0</td>\n",
       "      <td>Major Multi-use Pathway</td>\n",
       "      <td>1</td>\n",
       "    </tr>\n",
       "    <tr>\n",
       "      <th>3</th>\n",
       "      <td>Other</td>\n",
       "      <td>0</td>\n",
       "      <td>2</td>\n",
       "      <td>None</td>\n",
       "      <td>1</td>\n",
       "    </tr>\n",
       "    <tr>\n",
       "      <th>4</th>\n",
       "      <td>Trail</td>\n",
       "      <td>0</td>\n",
       "      <td>0</td>\n",
       "      <td>Major Multi-use Pathway</td>\n",
       "      <td>1</td>\n",
       "    </tr>\n",
       "    <tr>\n",
       "      <th>7</th>\n",
       "      <td>Major Arterial</td>\n",
       "      <td>60</td>\n",
       "      <td>4</td>\n",
       "      <td>None</td>\n",
       "      <td>3</td>\n",
       "    </tr>\n",
       "    <tr>\n",
       "      <th>8</th>\n",
       "      <td>Local</td>\n",
       "      <td>50</td>\n",
       "      <td>2</td>\n",
       "      <td>None</td>\n",
       "      <td>2</td>\n",
       "    </tr>\n",
       "    <tr>\n",
       "      <th>...</th>\n",
       "      <td>...</td>\n",
       "      <td>...</td>\n",
       "      <td>...</td>\n",
       "      <td>...</td>\n",
       "      <td>...</td>\n",
       "    </tr>\n",
       "    <tr>\n",
       "      <th>59544</th>\n",
       "      <td>Major Arterial</td>\n",
       "      <td>50</td>\n",
       "      <td>4</td>\n",
       "      <td>None</td>\n",
       "      <td>4</td>\n",
       "    </tr>\n",
       "    <tr>\n",
       "      <th>59545</th>\n",
       "      <td>Major Arterial</td>\n",
       "      <td>60</td>\n",
       "      <td>5</td>\n",
       "      <td>None</td>\n",
       "      <td>4</td>\n",
       "    </tr>\n",
       "    <tr>\n",
       "      <th>59551</th>\n",
       "      <td>Other</td>\n",
       "      <td>40</td>\n",
       "      <td>2</td>\n",
       "      <td>None</td>\n",
       "      <td>1</td>\n",
       "    </tr>\n",
       "    <tr>\n",
       "      <th>59552</th>\n",
       "      <td>Major Arterial</td>\n",
       "      <td>60</td>\n",
       "      <td>4</td>\n",
       "      <td>None</td>\n",
       "      <td>4</td>\n",
       "    </tr>\n",
       "    <tr>\n",
       "      <th>59553</th>\n",
       "      <td>Trail</td>\n",
       "      <td>0</td>\n",
       "      <td>0</td>\n",
       "      <td>None</td>\n",
       "      <td>1</td>\n",
       "    </tr>\n",
       "  </tbody>\n",
       "</table>\n",
       "<p>41533 rows × 5 columns</p>\n",
       "</div>"
      ],
      "text/plain": [
       "               road_type  speed_limit  nlanes              infras_type  lts\n",
       "OBJECTID                                                                   \n",
       "0                  Trail            0       0  Major Multi-use Pathway    1\n",
       "3                  Other            0       2                     None    1\n",
       "4                  Trail            0       0  Major Multi-use Pathway    1\n",
       "7         Major Arterial           60       4                     None    3\n",
       "8                  Local           50       2                     None    2\n",
       "...                  ...          ...     ...                      ...  ...\n",
       "59544     Major Arterial           50       4                     None    4\n",
       "59545     Major Arterial           60       5                     None    4\n",
       "59551              Other           40       2                     None    1\n",
       "59552     Major Arterial           60       4                     None    4\n",
       "59553              Trail            0       0                     None    1\n",
       "\n",
       "[41533 rows x 5 columns]"
      ]
     },
     "execution_count": 10,
     "metadata": {},
     "output_type": "execute_result"
    }
   ],
   "source": [
    "# join and select relevant columns\n",
    "feature_cols = ['FCODE_DESC', 'SPEED', 'NBRLANES_2', 'CP_TYPE']\n",
    "df = df_filtered.join(df_easy_features[feature_cols])\n",
    "flags = df[(df['LTS']==1) & (df['LF_NAME'] == 'Yonge St')].index\n",
    "df.loc[flags, 'CP_TYPE'] = 'Cycle Tracks'\n",
    "df = df[feature_cols + ['LTS']]\n",
    "df.columns = ['road_type', 'speed_limit', 'nlanes', 'infras_type', 'lts']\n",
    "df"
   ]
  },
  {
   "cell_type": "markdown",
   "id": "c7845835",
   "metadata": {},
   "source": [
    "## Road Type"
   ]
  },
  {
   "cell_type": "code",
   "execution_count": 11,
   "id": "84b8d5fe",
   "metadata": {},
   "outputs": [
    {
     "name": "stdout",
     "output_type": "stream",
     "text": [
      "Number of missing values: 0\n",
      "Number of unique values: 15\n",
      "They are: ['Trail' 'Other' 'Major Arterial' 'Local' 'Collector' 'Laneway' 'Walkway'\n",
      " 'Minor Arterial' 'Pending' 'Major Arterial Ramp' 'Access Road'\n",
      " 'Collector Ramp' 'Other Ramp' 'Busway' 'Minor Arterial Ramp']\n"
     ]
    }
   ],
   "source": [
    "# road type column\n",
    "missing_and_unique(df, 'road_type')"
   ]
  },
  {
   "cell_type": "code",
   "execution_count": 12,
   "id": "f5507447",
   "metadata": {},
   "outputs": [
    {
     "name": "stdout",
     "output_type": "stream",
     "text": [
      "Number of missing values: 0\n",
      "Number of unique values: 9\n",
      "They are: ['Trail' 'Other' 'Arterial' 'Local' 'Collector' 'Laneway' 'Walkway'\n",
      " 'Access Road' 'Ramp']\n"
     ]
    }
   ],
   "source": [
    "# replace\n",
    "road_type_mapping = {'Major Arterial': 'Arterial', 'Minor Arterial': 'Arterial', \n",
    "                     'Major Arterial Ramp': 'Arterial', 'Minor Arterial Ramp': 'Ramp',\n",
    "                     'Collector Ramp': 'Ramp', 'Other Ramp': 'Other', 'Busway': 'Other',\n",
    "                     'Pending': 'Other'}\n",
    "df['road_type'] = df['road_type'].replace(road_type_mapping)\n",
    "missing_and_unique(df, 'road_type')"
   ]
  },
  {
   "cell_type": "code",
   "execution_count": 13,
   "id": "e00f9f9b",
   "metadata": {},
   "outputs": [],
   "source": [
    "# one-hot-encoding\n",
    "df = pd.concat([df, pd.get_dummies(df['road_type'])], axis=1)"
   ]
  },
  {
   "cell_type": "markdown",
   "id": "e0513390",
   "metadata": {},
   "source": [
    "## Speed limit"
   ]
  },
  {
   "cell_type": "code",
   "execution_count": 14,
   "id": "0ed15110",
   "metadata": {},
   "outputs": [
    {
     "name": "stdout",
     "output_type": "stream",
     "text": [
      "Number of missing values: 0\n",
      "Number of unique values: 11\n",
      "They are: [ 0 60 50 40 20 30 10 70 80 15 25]\n"
     ]
    }
   ],
   "source": [
    "missing_and_unique(df, 'speed_limit')"
   ]
  },
  {
   "cell_type": "code",
   "execution_count": 37,
   "id": "835cfb9e",
   "metadata": {},
   "outputs": [],
   "source": [
    "df = pd.concat([df, pd.get_dummies(df['speed_limit'])], axis=1)"
   ]
  },
  {
   "cell_type": "code",
   "execution_count": 65,
   "id": "6b96f8a9",
   "metadata": {},
   "outputs": [],
   "source": [
    "df['s_leq_40'] = np.minimum(df['speed_limit'].values, 40)\n",
    "df['s_leq_56'] = np.minimum(np.maximum(df['speed_limit'].values - 40, 0), 16)\n",
    "df['s_geq_56'] = np.maximum(df['speed_limit'].values - 56, 0)"
   ]
  },
  {
   "cell_type": "markdown",
   "id": "8d6981ef",
   "metadata": {},
   "source": [
    "## nlanes"
   ]
  },
  {
   "cell_type": "code",
   "execution_count": 15,
   "id": "1516b43d",
   "metadata": {},
   "outputs": [
    {
     "name": "stdout",
     "output_type": "stream",
     "text": [
      "Number of missing values: 0\n",
      "Number of unique values: 11\n",
      "They are: [ 0  2  4  5  6  3  1  7 21  8 44]\n"
     ]
    }
   ],
   "source": [
    "missing_and_unique(df, 'nlanes')"
   ]
  },
  {
   "cell_type": "code",
   "execution_count": 16,
   "id": "87ba746e",
   "metadata": {},
   "outputs": [
    {
     "name": "stdout",
     "output_type": "stream",
     "text": [
      "Number of missing values: 0\n",
      "Number of unique values: 9\n",
      "They are: [0 2 4 5 6 3 1 7 8]\n"
     ]
    }
   ],
   "source": [
    "df['nlanes'] = df['nlanes'].replace({44: 4, 21: 2})\n",
    "missing_and_unique(df, 'nlanes')"
   ]
  },
  {
   "cell_type": "markdown",
   "id": "1bdda841",
   "metadata": {},
   "source": [
    "# infras type"
   ]
  },
  {
   "cell_type": "code",
   "execution_count": 17,
   "id": "68a80af1",
   "metadata": {},
   "outputs": [
    {
     "name": "stdout",
     "output_type": "stream",
     "text": [
      "Number of missing values: 36817\n",
      "Number of unique values: 10\n",
      "They are: ['Major Multi-use Pathway' None 'Suggested On-Street Routes'\n",
      " 'Signed Routes' 'Bike Lanes' 'Park Roads Cycling Connections'\n",
      " 'Minor Multi-use Pathway' 'Quiet Street Cycling Routes' 'Cycle Tracks'\n",
      " 'Informal Dirt Footpath']\n"
     ]
    }
   ],
   "source": [
    "missing_and_unique(df, 'infras_type')"
   ]
  },
  {
   "cell_type": "code",
   "execution_count": 18,
   "id": "a3c74f47",
   "metadata": {},
   "outputs": [
    {
     "data": {
      "text/html": [
       "<div>\n",
       "<style scoped>\n",
       "    .dataframe tbody tr th:only-of-type {\n",
       "        vertical-align: middle;\n",
       "    }\n",
       "\n",
       "    .dataframe tbody tr th {\n",
       "        vertical-align: top;\n",
       "    }\n",
       "\n",
       "    .dataframe thead th {\n",
       "        text-align: right;\n",
       "    }\n",
       "</style>\n",
       "<table border=\"1\" class=\"dataframe\">\n",
       "  <thead>\n",
       "    <tr style=\"text-align: right;\">\n",
       "      <th></th>\n",
       "      <th>road_type</th>\n",
       "      <th>speed_limit</th>\n",
       "      <th>nlanes</th>\n",
       "      <th>infras_type</th>\n",
       "      <th>lts</th>\n",
       "      <th>Access Road</th>\n",
       "      <th>Arterial</th>\n",
       "      <th>Collector</th>\n",
       "      <th>Laneway</th>\n",
       "      <th>Local</th>\n",
       "      <th>Other</th>\n",
       "      <th>Ramp</th>\n",
       "      <th>Trail</th>\n",
       "      <th>Walkway</th>\n",
       "      <th>infras_binary</th>\n",
       "    </tr>\n",
       "  </thead>\n",
       "  <tbody>\n",
       "    <tr>\n",
       "      <th>0</th>\n",
       "      <td>Trail</td>\n",
       "      <td>0</td>\n",
       "      <td>0</td>\n",
       "      <td>Major Multi-use Pathway</td>\n",
       "      <td>1</td>\n",
       "      <td>0</td>\n",
       "      <td>0</td>\n",
       "      <td>0</td>\n",
       "      <td>0</td>\n",
       "      <td>0</td>\n",
       "      <td>0</td>\n",
       "      <td>0</td>\n",
       "      <td>1</td>\n",
       "      <td>0</td>\n",
       "      <td>0</td>\n",
       "    </tr>\n",
       "    <tr>\n",
       "      <th>1</th>\n",
       "      <td>Other</td>\n",
       "      <td>0</td>\n",
       "      <td>2</td>\n",
       "      <td>None</td>\n",
       "      <td>1</td>\n",
       "      <td>0</td>\n",
       "      <td>0</td>\n",
       "      <td>0</td>\n",
       "      <td>0</td>\n",
       "      <td>0</td>\n",
       "      <td>1</td>\n",
       "      <td>0</td>\n",
       "      <td>0</td>\n",
       "      <td>0</td>\n",
       "      <td>0</td>\n",
       "    </tr>\n",
       "    <tr>\n",
       "      <th>2</th>\n",
       "      <td>Trail</td>\n",
       "      <td>0</td>\n",
       "      <td>0</td>\n",
       "      <td>Major Multi-use Pathway</td>\n",
       "      <td>1</td>\n",
       "      <td>0</td>\n",
       "      <td>0</td>\n",
       "      <td>0</td>\n",
       "      <td>0</td>\n",
       "      <td>0</td>\n",
       "      <td>0</td>\n",
       "      <td>0</td>\n",
       "      <td>1</td>\n",
       "      <td>0</td>\n",
       "      <td>0</td>\n",
       "    </tr>\n",
       "    <tr>\n",
       "      <th>3</th>\n",
       "      <td>Arterial</td>\n",
       "      <td>60</td>\n",
       "      <td>4</td>\n",
       "      <td>None</td>\n",
       "      <td>3</td>\n",
       "      <td>0</td>\n",
       "      <td>1</td>\n",
       "      <td>0</td>\n",
       "      <td>0</td>\n",
       "      <td>0</td>\n",
       "      <td>0</td>\n",
       "      <td>0</td>\n",
       "      <td>0</td>\n",
       "      <td>0</td>\n",
       "      <td>0</td>\n",
       "    </tr>\n",
       "    <tr>\n",
       "      <th>4</th>\n",
       "      <td>Local</td>\n",
       "      <td>50</td>\n",
       "      <td>2</td>\n",
       "      <td>None</td>\n",
       "      <td>2</td>\n",
       "      <td>0</td>\n",
       "      <td>0</td>\n",
       "      <td>0</td>\n",
       "      <td>0</td>\n",
       "      <td>1</td>\n",
       "      <td>0</td>\n",
       "      <td>0</td>\n",
       "      <td>0</td>\n",
       "      <td>0</td>\n",
       "      <td>0</td>\n",
       "    </tr>\n",
       "    <tr>\n",
       "      <th>...</th>\n",
       "      <td>...</td>\n",
       "      <td>...</td>\n",
       "      <td>...</td>\n",
       "      <td>...</td>\n",
       "      <td>...</td>\n",
       "      <td>...</td>\n",
       "      <td>...</td>\n",
       "      <td>...</td>\n",
       "      <td>...</td>\n",
       "      <td>...</td>\n",
       "      <td>...</td>\n",
       "      <td>...</td>\n",
       "      <td>...</td>\n",
       "      <td>...</td>\n",
       "      <td>...</td>\n",
       "    </tr>\n",
       "    <tr>\n",
       "      <th>41528</th>\n",
       "      <td>Arterial</td>\n",
       "      <td>50</td>\n",
       "      <td>4</td>\n",
       "      <td>None</td>\n",
       "      <td>4</td>\n",
       "      <td>0</td>\n",
       "      <td>1</td>\n",
       "      <td>0</td>\n",
       "      <td>0</td>\n",
       "      <td>0</td>\n",
       "      <td>0</td>\n",
       "      <td>0</td>\n",
       "      <td>0</td>\n",
       "      <td>0</td>\n",
       "      <td>0</td>\n",
       "    </tr>\n",
       "    <tr>\n",
       "      <th>41529</th>\n",
       "      <td>Arterial</td>\n",
       "      <td>60</td>\n",
       "      <td>5</td>\n",
       "      <td>None</td>\n",
       "      <td>4</td>\n",
       "      <td>0</td>\n",
       "      <td>1</td>\n",
       "      <td>0</td>\n",
       "      <td>0</td>\n",
       "      <td>0</td>\n",
       "      <td>0</td>\n",
       "      <td>0</td>\n",
       "      <td>0</td>\n",
       "      <td>0</td>\n",
       "      <td>0</td>\n",
       "    </tr>\n",
       "    <tr>\n",
       "      <th>41530</th>\n",
       "      <td>Other</td>\n",
       "      <td>40</td>\n",
       "      <td>2</td>\n",
       "      <td>None</td>\n",
       "      <td>1</td>\n",
       "      <td>0</td>\n",
       "      <td>0</td>\n",
       "      <td>0</td>\n",
       "      <td>0</td>\n",
       "      <td>0</td>\n",
       "      <td>1</td>\n",
       "      <td>0</td>\n",
       "      <td>0</td>\n",
       "      <td>0</td>\n",
       "      <td>0</td>\n",
       "    </tr>\n",
       "    <tr>\n",
       "      <th>41531</th>\n",
       "      <td>Arterial</td>\n",
       "      <td>60</td>\n",
       "      <td>4</td>\n",
       "      <td>None</td>\n",
       "      <td>4</td>\n",
       "      <td>0</td>\n",
       "      <td>1</td>\n",
       "      <td>0</td>\n",
       "      <td>0</td>\n",
       "      <td>0</td>\n",
       "      <td>0</td>\n",
       "      <td>0</td>\n",
       "      <td>0</td>\n",
       "      <td>0</td>\n",
       "      <td>0</td>\n",
       "    </tr>\n",
       "    <tr>\n",
       "      <th>41532</th>\n",
       "      <td>Trail</td>\n",
       "      <td>0</td>\n",
       "      <td>0</td>\n",
       "      <td>None</td>\n",
       "      <td>1</td>\n",
       "      <td>0</td>\n",
       "      <td>0</td>\n",
       "      <td>0</td>\n",
       "      <td>0</td>\n",
       "      <td>0</td>\n",
       "      <td>0</td>\n",
       "      <td>0</td>\n",
       "      <td>1</td>\n",
       "      <td>0</td>\n",
       "      <td>0</td>\n",
       "    </tr>\n",
       "  </tbody>\n",
       "</table>\n",
       "<p>41533 rows × 15 columns</p>\n",
       "</div>"
      ],
      "text/plain": [
       "      road_type  speed_limit  nlanes              infras_type  lts  \\\n",
       "0         Trail            0       0  Major Multi-use Pathway    1   \n",
       "1         Other            0       2                     None    1   \n",
       "2         Trail            0       0  Major Multi-use Pathway    1   \n",
       "3      Arterial           60       4                     None    3   \n",
       "4         Local           50       2                     None    2   \n",
       "...         ...          ...     ...                      ...  ...   \n",
       "41528  Arterial           50       4                     None    4   \n",
       "41529  Arterial           60       5                     None    4   \n",
       "41530     Other           40       2                     None    1   \n",
       "41531  Arterial           60       4                     None    4   \n",
       "41532     Trail            0       0                     None    1   \n",
       "\n",
       "       Access Road  Arterial  Collector  Laneway  Local  Other  Ramp  Trail  \\\n",
       "0                0         0          0        0      0      0     0      1   \n",
       "1                0         0          0        0      0      1     0      0   \n",
       "2                0         0          0        0      0      0     0      1   \n",
       "3                0         1          0        0      0      0     0      0   \n",
       "4                0         0          0        0      1      0     0      0   \n",
       "...            ...       ...        ...      ...    ...    ...   ...    ...   \n",
       "41528            0         1          0        0      0      0     0      0   \n",
       "41529            0         1          0        0      0      0     0      0   \n",
       "41530            0         0          0        0      0      1     0      0   \n",
       "41531            0         1          0        0      0      0     0      0   \n",
       "41532            0         0          0        0      0      0     0      1   \n",
       "\n",
       "       Walkway  infras_binary  \n",
       "0            0              0  \n",
       "1            0              0  \n",
       "2            0              0  \n",
       "3            0              0  \n",
       "4            0              0  \n",
       "...        ...            ...  \n",
       "41528        0              0  \n",
       "41529        0              0  \n",
       "41530        0              0  \n",
       "41531        0              0  \n",
       "41532        0              0  \n",
       "\n",
       "[41533 rows x 15 columns]"
      ]
     },
     "execution_count": 18,
     "metadata": {},
     "output_type": "execute_result"
    }
   ],
   "source": [
    "cp_mapping = {val: 0 for val in df['infras_type'].unique()}\n",
    "cp_mapping['Bike Lanes'] = 1\n",
    "cp_mapping['Cycle Tracks'] = 1\n",
    "df['infras_binary'] = df['infras_type'].replace(cp_mapping)\n",
    "df.index = range(len(df))\n",
    "df"
   ]
  },
  {
   "cell_type": "markdown",
   "id": "b5b674f3",
   "metadata": {},
   "source": [
    "# Save data"
   ]
  },
  {
   "cell_type": "code",
   "execution_count": 97,
   "id": "2d6b749d",
   "metadata": {},
   "outputs": [],
   "source": [
    "road_type = df[['Access Road', 'Arterial', 'Collector', 'Laneway', 'Local', 'Other', 'Ramp', 'Trail', 'Walkway']].values\n",
    "speed_lmt = df['speed_limit'].values\n",
    "speed_lmt_onehot = df[[0, 10, 15, 20, 25, 30, 40, 50, 60, 70, 80]].astype(int).values\n",
    "speed_lmt_thred = df[['s_leq_40', 's_leq_56', 's_geq_56']].values\n",
    "n_lanes = df['nlanes'].values\n",
    "infras = df['infras_binary'].values"
   ]
  },
  {
   "cell_type": "code",
   "execution_count": 98,
   "id": "43f5c5b6",
   "metadata": {},
   "outputs": [],
   "source": [
    "np.savetxt('./data/road/road_type.txt', road_type, delimiter=',')\n",
    "np.savetxt('./data/road/speed_limit.txt', speed_lmt, delimiter=',')\n",
    "np.savetxt('./data/road/speed_limit_onehot.txt', speed_lmt_onehot, delimiter=',')\n",
    "np.savetxt('./data/road/speed_limit_thred.txt', speed_lmt_thred, delimiter=',')\n",
    "np.savetxt('./data/road/n_lanes.txt', n_lanes, delimiter=',')\n",
    "np.savetxt('./data/road/cyc_infras.txt', infras, delimiter=',')"
   ]
  },
  {
   "cell_type": "code",
   "execution_count": null,
   "id": "a57106ff",
   "metadata": {},
   "outputs": [],
   "source": []
  },
  {
   "cell_type": "code",
   "execution_count": null,
   "id": "542c08f6",
   "metadata": {},
   "outputs": [],
   "source": []
  },
  {
   "cell_type": "markdown",
   "id": "24686718",
   "metadata": {},
   "source": [
    "# Train Test Split"
   ]
  },
  {
   "cell_type": "code",
   "execution_count": 84,
   "id": "c31f9459",
   "metadata": {},
   "outputs": [],
   "source": [
    "def load_data(df, features):\n",
    "    f2c = {'speed_limit': ['speed_limit'], 'nlanes': ['nlanes'],\n",
    "           'speed_limit_onehot': [0, 10, 15, 20, 25, 30, 40, 50, 60, 70, 80],\n",
    "           'road_type': ['Access Road', 'Arterial', 'Collector', 'Laneway', 'Local', 'Other', 'Ramp', 'Trail', 'Walkway'],\n",
    "           'infras': ['infras_binary']}\n",
    "    cols = []\n",
    "    for f in features:\n",
    "        cols += f2c[f]\n",
    "    return df[cols], df['lts']"
   ]
  },
  {
   "cell_type": "code",
   "execution_count": 20,
   "id": "736d32e6",
   "metadata": {},
   "outputs": [],
   "source": [
    "def load_emb(encoder_name, purpose):\n",
    "    root = '/Users/bolin/Library/CloudStorage/OneDrive-UniversityofToronto/AutoLTS/'\n",
    "    X = np.loadtxt(f'{root}/emb/{encoder_name}_{purpose}.txt', delimiter=',').astype(float)\n",
    "    y = np.loadtxt(f'{root}/data/LTS/lts_labels.txt').astype(int)\n",
    "    indi = np.loadtxt(f'{root}/data/{purpose}_idx.txt').astype(int)\n",
    "    y = y[indi]\n",
    "    return X, y"
   ]
  },
  {
   "cell_type": "code",
   "execution_count": 21,
   "id": "d80ebc9d",
   "metadata": {},
   "outputs": [],
   "source": [
    "indi_train = np.loadtxt(f'./data/training_idx.txt').astype(int)\n",
    "indi_vali = np.loadtxt(f'./data/validation_idx.txt').astype(int)\n",
    "# indi_train = np.concatenate([indi_train, indi_vali])\n",
    "indi_test = np.loadtxt(f'./data/test_idx.txt').astype(int)"
   ]
  },
  {
   "cell_type": "markdown",
   "id": "ef00ade4",
   "metadata": {},
   "source": [
    "# CART - speed + lanes"
   ]
  },
  {
   "cell_type": "code",
   "execution_count": 112,
   "id": "c1701032",
   "metadata": {},
   "outputs": [],
   "source": [
    "X, y = load_data(df, ['speed_limit_onehot'])\n",
    "X_train = X.iloc[indi_train, :]\n",
    "y_train = y.iloc[indi_train]\n",
    "X_test = X.iloc[indi_test, :]\n",
    "y_test = y.iloc[indi_test]"
   ]
  },
  {
   "cell_type": "code",
   "execution_count": 116,
   "id": "fa7ce22f",
   "metadata": {},
   "outputs": [
    {
     "data": {
      "text/plain": [
       "(0.742, 0.738)"
      ]
     },
     "execution_count": 116,
     "metadata": {},
     "output_type": "execute_result"
    }
   ],
   "source": [
    "clf = DecisionTreeClassifier(random_state=0, max_depth=10)\n",
    "clf.fit(X_train, y_train)\n",
    "clf.score(X_train, y_train), clf.score(X_test, y_test)"
   ]
  },
  {
   "cell_type": "code",
   "execution_count": 117,
   "id": "86e198b2",
   "metadata": {},
   "outputs": [
    {
     "data": {
      "text/plain": [
       "array([[0.96941176, 0.02823529, 0.        , 0.00235294],\n",
       "       [0.19411765, 0.80588235, 0.        , 0.        ],\n",
       "       [0.17777778, 0.7037037 , 0.        , 0.11851852],\n",
       "       [0.18      , 0.3       , 0.        , 0.52      ]])"
      ]
     },
     "execution_count": 117,
     "metadata": {},
     "output_type": "execute_result"
    }
   ],
   "source": [
    "confusion_matrix(y_test, clf.predict(X_test), normalize='true')"
   ]
  },
  {
   "cell_type": "code",
   "execution_count": 59,
   "id": "ac51e2b6",
   "metadata": {},
   "outputs": [
    {
     "data": {
      "image/svg+xml": [
       "<svg xmlns=\"http://www.w3.org/2000/svg\" xmlns:xlink=\"http://www.w3.org/1999/xlink\" width=\"509pt\" height=\"373pt\" viewBox=\"0.00 0.00 508.50 373.00\">\n",
       "<g id=\"graph0\" class=\"graph\" transform=\"scale(1 1) rotate(0) translate(4 369)\">\n",
       "<title>Tree</title>\n",
       "<polygon fill=\"white\" stroke=\"transparent\" points=\"-4,4 -4,-369 504.5,-369 504.5,4 -4,4\"/>\n",
       "<!-- 0 -->\n",
       "<g id=\"node1\" class=\"node\">\n",
       "<title>0</title>\n",
       "<path fill=\"#fdf4ee\" stroke=\"black\" d=\"M414.5,-365C414.5,-365 253.5,-365 253.5,-365 247.5,-365 241.5,-359 241.5,-353 241.5,-353 241.5,-309 241.5,-309 241.5,-303 247.5,-297 253.5,-297 253.5,-297 414.5,-297 414.5,-297 420.5,-297 426.5,-303 426.5,-309 426.5,-309 426.5,-353 426.5,-353 426.5,-359 420.5,-365 414.5,-365\"/>\n",
       "<text text-anchor=\"middle\" x=\"334\" y=\"-349.8\" font-family=\"Helvetica,sans-Serif\" font-size=\"14.00\">50 &lt;= 0.5</text>\n",
       "<text text-anchor=\"middle\" x=\"334\" y=\"-334.8\" font-family=\"Helvetica,sans-Serif\" font-size=\"14.00\">gini = 0.687</text>\n",
       "<text text-anchor=\"middle\" x=\"334\" y=\"-319.8\" font-family=\"Helvetica,sans-Serif\" font-size=\"14.00\">samples = 1000</text>\n",
       "<text text-anchor=\"middle\" x=\"334\" y=\"-304.8\" font-family=\"Helvetica,sans-Serif\" font-size=\"14.00\">value = [401, 346, 123, 130]</text>\n",
       "</g>\n",
       "<!-- 1 -->\n",
       "<g id=\"node2\" class=\"node\">\n",
       "<title>1</title>\n",
       "<path fill=\"#efb387\" stroke=\"black\" d=\"M315,-261C315,-261 177,-261 177,-261 171,-261 165,-255 165,-249 165,-249 165,-205 165,-205 165,-199 171,-193 177,-193 177,-193 315,-193 315,-193 321,-193 327,-199 327,-205 327,-205 327,-249 327,-249 327,-255 321,-261 315,-261\"/>\n",
       "<text text-anchor=\"middle\" x=\"246\" y=\"-245.8\" font-family=\"Helvetica,sans-Serif\" font-size=\"14.00\">60 &lt;= 0.5</text>\n",
       "<text text-anchor=\"middle\" x=\"246\" y=\"-230.8\" font-family=\"Helvetica,sans-Serif\" font-size=\"14.00\">gini = 0.516</text>\n",
       "<text text-anchor=\"middle\" x=\"246\" y=\"-215.8\" font-family=\"Helvetica,sans-Serif\" font-size=\"14.00\">samples = 598</text>\n",
       "<text text-anchor=\"middle\" x=\"246\" y=\"-200.8\" font-family=\"Helvetica,sans-Serif\" font-size=\"14.00\">value = [398, 69, 39, 92]</text>\n",
       "</g>\n",
       "<!-- 0&#45;&gt;1 -->\n",
       "<g id=\"edge1\" class=\"edge\">\n",
       "<title>0-&gt;1</title>\n",
       "<path fill=\"none\" stroke=\"black\" d=\"M305.43,-296.88C297.74,-287.98 289.34,-278.24 281.34,-268.96\"/>\n",
       "<polygon fill=\"black\" stroke=\"black\" points=\"283.91,-266.58 274.73,-261.3 278.61,-271.16 283.91,-266.58\"/>\n",
       "<text text-anchor=\"middle\" x=\"272.89\" y=\"-282.53\" font-family=\"Helvetica,sans-Serif\" font-size=\"14.00\">True</text>\n",
       "</g>\n",
       "<!-- 6 -->\n",
       "<g id=\"node7\" class=\"node\">\n",
       "<title>6</title>\n",
       "<path fill=\"#8fef87\" stroke=\"black\" d=\"M488.5,-253.5C488.5,-253.5 357.5,-253.5 357.5,-253.5 351.5,-253.5 345.5,-247.5 345.5,-241.5 345.5,-241.5 345.5,-212.5 345.5,-212.5 345.5,-206.5 351.5,-200.5 357.5,-200.5 357.5,-200.5 488.5,-200.5 488.5,-200.5 494.5,-200.5 500.5,-206.5 500.5,-212.5 500.5,-212.5 500.5,-241.5 500.5,-241.5 500.5,-247.5 494.5,-253.5 488.5,-253.5\"/>\n",
       "<text text-anchor=\"middle\" x=\"423\" y=\"-238.3\" font-family=\"Helvetica,sans-Serif\" font-size=\"14.00\">gini = 0.473</text>\n",
       "<text text-anchor=\"middle\" x=\"423\" y=\"-223.3\" font-family=\"Helvetica,sans-Serif\" font-size=\"14.00\">samples = 402</text>\n",
       "<text text-anchor=\"middle\" x=\"423\" y=\"-208.3\" font-family=\"Helvetica,sans-Serif\" font-size=\"14.00\">value = [3, 277, 84, 38]</text>\n",
       "</g>\n",
       "<!-- 0&#45;&gt;6 -->\n",
       "<g id=\"edge6\" class=\"edge\">\n",
       "<title>0-&gt;6</title>\n",
       "<path fill=\"none\" stroke=\"black\" d=\"M362.9,-296.88C372.88,-285.45 384.05,-272.63 394.04,-261.19\"/>\n",
       "<polygon fill=\"black\" stroke=\"black\" points=\"396.8,-263.36 400.73,-253.52 391.52,-258.75 396.8,-263.36\"/>\n",
       "<text text-anchor=\"middle\" x=\"402.43\" y=\"-274.76\" font-family=\"Helvetica,sans-Serif\" font-size=\"14.00\">False</text>\n",
       "</g>\n",
       "<!-- 2 -->\n",
       "<g id=\"node3\" class=\"node\">\n",
       "<title>2</title>\n",
       "<path fill=\"#eca26d\" stroke=\"black\" d=\"M231,-157C231,-157 93,-157 93,-157 87,-157 81,-151 81,-145 81,-145 81,-101 81,-101 81,-95 87,-89 93,-89 93,-89 231,-89 231,-89 237,-89 243,-95 243,-101 243,-101 243,-145 243,-145 243,-151 237,-157 231,-157\"/>\n",
       "<text text-anchor=\"middle\" x=\"162\" y=\"-141.8\" font-family=\"Helvetica,sans-Serif\" font-size=\"14.00\">70 &lt;= 0.5</text>\n",
       "<text text-anchor=\"middle\" x=\"162\" y=\"-126.8\" font-family=\"Helvetica,sans-Serif\" font-size=\"14.00\">gini = 0.389</text>\n",
       "<text text-anchor=\"middle\" x=\"162\" y=\"-111.8\" font-family=\"Helvetica,sans-Serif\" font-size=\"14.00\">samples = 517</text>\n",
       "<text text-anchor=\"middle\" x=\"162\" y=\"-96.8\" font-family=\"Helvetica,sans-Serif\" font-size=\"14.00\">value = [397, 64, 27, 29]</text>\n",
       "</g>\n",
       "<!-- 1&#45;&gt;2 -->\n",
       "<g id=\"edge2\" class=\"edge\">\n",
       "<title>1-&gt;2</title>\n",
       "<path fill=\"none\" stroke=\"black\" d=\"M218.73,-192.88C211.47,-184.07 203.53,-174.43 195.96,-165.24\"/>\n",
       "<polygon fill=\"black\" stroke=\"black\" points=\"198.48,-162.79 189.42,-157.3 193.08,-167.24 198.48,-162.79\"/>\n",
       "</g>\n",
       "<!-- 5 -->\n",
       "<g id=\"node6\" class=\"node\">\n",
       "<title>5</title>\n",
       "<path fill=\"#e16dec\" stroke=\"black\" d=\"M389,-149.5C389,-149.5 273,-149.5 273,-149.5 267,-149.5 261,-143.5 261,-137.5 261,-137.5 261,-108.5 261,-108.5 261,-102.5 267,-96.5 273,-96.5 273,-96.5 389,-96.5 389,-96.5 395,-96.5 401,-102.5 401,-108.5 401,-108.5 401,-137.5 401,-137.5 401,-143.5 395,-149.5 389,-149.5\"/>\n",
       "<text text-anchor=\"middle\" x=\"331\" y=\"-134.3\" font-family=\"Helvetica,sans-Serif\" font-size=\"14.00\">gini = 0.369</text>\n",
       "<text text-anchor=\"middle\" x=\"331\" y=\"-119.3\" font-family=\"Helvetica,sans-Serif\" font-size=\"14.00\">samples = 81</text>\n",
       "<text text-anchor=\"middle\" x=\"331\" y=\"-104.3\" font-family=\"Helvetica,sans-Serif\" font-size=\"14.00\">value = [1, 5, 12, 63]</text>\n",
       "</g>\n",
       "<!-- 1&#45;&gt;5 -->\n",
       "<g id=\"edge5\" class=\"edge\">\n",
       "<title>1-&gt;5</title>\n",
       "<path fill=\"none\" stroke=\"black\" d=\"M273.6,-192.88C283.04,-181.56 293.6,-168.88 303.07,-157.52\"/>\n",
       "<polygon fill=\"black\" stroke=\"black\" points=\"306.02,-159.44 309.73,-149.52 300.64,-154.96 306.02,-159.44\"/>\n",
       "</g>\n",
       "<!-- 3 -->\n",
       "<g id=\"node4\" class=\"node\">\n",
       "<title>3</title>\n",
       "<path fill=\"#eca26c\" stroke=\"black\" d=\"M150,-53C150,-53 12,-53 12,-53 6,-53 0,-47 0,-41 0,-41 0,-12 0,-12 0,-6 6,0 12,0 12,0 150,0 150,0 156,0 162,-6 162,-12 162,-12 162,-41 162,-41 162,-47 156,-53 150,-53\"/>\n",
       "<text text-anchor=\"middle\" x=\"81\" y=\"-37.8\" font-family=\"Helvetica,sans-Serif\" font-size=\"14.00\">gini = 0.383</text>\n",
       "<text text-anchor=\"middle\" x=\"81\" y=\"-22.8\" font-family=\"Helvetica,sans-Serif\" font-size=\"14.00\">samples = 514</text>\n",
       "<text text-anchor=\"middle\" x=\"81\" y=\"-7.8\" font-family=\"Helvetica,sans-Serif\" font-size=\"14.00\">value = [397, 64, 27, 26]</text>\n",
       "</g>\n",
       "<!-- 2&#45;&gt;3 -->\n",
       "<g id=\"edge3\" class=\"edge\">\n",
       "<title>2-&gt;3</title>\n",
       "<path fill=\"none\" stroke=\"black\" d=\"M133.67,-88.95C125.91,-79.89 117.49,-70.07 109.7,-60.99\"/>\n",
       "<polygon fill=\"black\" stroke=\"black\" points=\"112.23,-58.55 103.06,-53.24 106.91,-63.11 112.23,-58.55\"/>\n",
       "</g>\n",
       "<!-- 4 -->\n",
       "<g id=\"node5\" class=\"node\">\n",
       "<title>4</title>\n",
       "<path fill=\"#d739e5\" stroke=\"black\" d=\"M293.5,-53C293.5,-53 192.5,-53 192.5,-53 186.5,-53 180.5,-47 180.5,-41 180.5,-41 180.5,-12 180.5,-12 180.5,-6 186.5,0 192.5,0 192.5,0 293.5,0 293.5,0 299.5,0 305.5,-6 305.5,-12 305.5,-12 305.5,-41 305.5,-41 305.5,-47 299.5,-53 293.5,-53\"/>\n",
       "<text text-anchor=\"middle\" x=\"243\" y=\"-37.8\" font-family=\"Helvetica,sans-Serif\" font-size=\"14.00\">gini = 0.0</text>\n",
       "<text text-anchor=\"middle\" x=\"243\" y=\"-22.8\" font-family=\"Helvetica,sans-Serif\" font-size=\"14.00\">samples = 3</text>\n",
       "<text text-anchor=\"middle\" x=\"243\" y=\"-7.8\" font-family=\"Helvetica,sans-Serif\" font-size=\"14.00\">value = [0, 0, 0, 3]</text>\n",
       "</g>\n",
       "<!-- 2&#45;&gt;4 -->\n",
       "<g id=\"edge4\" class=\"edge\">\n",
       "<title>2-&gt;4</title>\n",
       "<path fill=\"none\" stroke=\"black\" d=\"M190.33,-88.95C198.09,-79.89 206.51,-70.07 214.3,-60.99\"/>\n",
       "<polygon fill=\"black\" stroke=\"black\" points=\"217.09,-63.11 220.94,-53.24 211.77,-58.55 217.09,-63.11\"/>\n",
       "</g>\n",
       "</g>\n",
       "</svg>"
      ],
      "text/plain": [
       "<IPython.core.display.SVG object>"
      ]
     },
     "execution_count": 59,
     "metadata": {},
     "output_type": "execute_result"
    }
   ],
   "source": [
    "cart_graph = Source(export_graphviz(clf,\n",
    "                                    feature_names = X_train.columns,\n",
    "                                    rounded = True, proportion = False, \n",
    "                                    filled = True))\n",
    "SVG(cart_graph.pipe(format='svg'))"
   ]
  },
  {
   "cell_type": "markdown",
   "id": "7e5bc9d8",
   "metadata": {},
   "source": [
    "# CART - speed + lanes + selfsup-emb"
   ]
  },
  {
   "cell_type": "markdown",
   "id": "40f772a4",
   "metadata": {},
   "source": [
    "## Naive"
   ]
  },
  {
   "cell_type": "code",
   "execution_count": 270,
   "id": "85a9228d",
   "metadata": {},
   "outputs": [],
   "source": [
    "X, y = load_data(df, ['speed_limit', 'nlanes'])\n",
    "emb_train, _ = load_emb('8763825_290', 'training')\n",
    "emb_test, _ = load_emb('8763825_290', 'test')\n",
    "X_train = np.concatenate([X.iloc[indi_train, :].values, emb_train], axis=1)\n",
    "X_test = np.concatenate([X.iloc[indi_test, :].values, emb_test], axis=1)\n",
    "y_train = y.iloc[indi_train]\n",
    "y_test = y.iloc[indi_test]"
   ]
  },
  {
   "cell_type": "code",
   "execution_count": 271,
   "id": "bd3bd155",
   "metadata": {},
   "outputs": [
    {
     "data": {
      "text/plain": [
       "(0.9011566388149013, 0.789545377149668)"
      ]
     },
     "execution_count": 271,
     "metadata": {},
     "output_type": "execute_result"
    }
   ],
   "source": [
    "clf = DecisionTreeClassifier(random_state=0, max_depth=10)\n",
    "clf.fit(X_train, y_train)\n",
    "clf.score(X_train, y_train), clf.score(X_test, y_test)"
   ]
  },
  {
   "cell_type": "code",
   "execution_count": 272,
   "id": "37479cc6",
   "metadata": {},
   "outputs": [
    {
     "data": {
      "text/plain": [
       "array([[0.91652824, 0.05523256, 0.02242525, 0.00581395],\n",
       "       [0.1207824 , 0.79168704, 0.0806846 , 0.00684597],\n",
       "       [0.0921895 , 0.35083227, 0.3943662 , 0.16261204],\n",
       "       [0.01564945, 0.03442879, 0.1627543 , 0.78716745]])"
      ]
     },
     "execution_count": 272,
     "metadata": {},
     "output_type": "execute_result"
    }
   ],
   "source": [
    "confusion_matrix(y_test, clf.predict(X_test), normalize='true')"
   ]
  },
  {
   "cell_type": "markdown",
   "id": "87c5a8f4",
   "metadata": {},
   "source": [
    "## Grid Search"
   ]
  },
  {
   "cell_type": "code",
   "execution_count": 264,
   "id": "155c5e28",
   "metadata": {},
   "outputs": [
    {
     "data": {
      "text/plain": [
       "{'criterion': 'gini', 'max_depth': 7, 'min_samples_split': 0.01}"
      ]
     },
     "execution_count": 264,
     "metadata": {},
     "output_type": "execute_result"
    }
   ],
   "source": [
    "dt_clf = DecisionTreeClassifier(random_state=0)\n",
    "params = {'criterion': ['gini', 'entropy'],\n",
    "          'max_depth': [1, 2, 3, 4, 5, 6, 7, 8, 9, 10],\n",
    "          'min_samples_split': [0.01, 0.03, 0.05, 0.1, 0.15, 0.2]}\n",
    "\n",
    "clf = GridSearchCV(dt_clf, params, cv=5)\n",
    "search = clf.fit(X_train, y_train)\n",
    "search.best_params_"
   ]
  },
  {
   "cell_type": "code",
   "execution_count": 273,
   "id": "e67c3e14",
   "metadata": {},
   "outputs": [
    {
     "data": {
      "text/plain": [
       "(0.865654759732915, 0.789545377149668)"
      ]
     },
     "execution_count": 273,
     "metadata": {},
     "output_type": "execute_result"
    }
   ],
   "source": [
    "dt_clf = DecisionTreeClassifier(random_state=0, criterion='gini', max_depth=7, min_samples_split=0.01)\n",
    "dt_clf.fit(X_train, y_train)\n",
    "dt_clf.score(X_train, y_train), clf.score(X_test, y_test)"
   ]
  },
  {
   "cell_type": "markdown",
   "id": "073297dd",
   "metadata": {},
   "source": [
    "# CART - Type + Cycle"
   ]
  },
  {
   "cell_type": "code",
   "execution_count": 229,
   "id": "28278e73",
   "metadata": {},
   "outputs": [],
   "source": [
    "X, y = load_data(df, ['infras', 'road_type'])\n",
    "X_train = X.iloc[indi_train, :]\n",
    "y_train = y.iloc[indi_train]\n",
    "X_test = X.iloc[indi_test, :]\n",
    "y_test = y.iloc[indi_test]"
   ]
  },
  {
   "cell_type": "code",
   "execution_count": 230,
   "id": "7c688c17",
   "metadata": {},
   "outputs": [
    {
     "data": {
      "text/plain": [
       "(0.5718247163133506, 0.575174527498723)"
      ]
     },
     "execution_count": 230,
     "metadata": {},
     "output_type": "execute_result"
    }
   ],
   "source": [
    "clf = DecisionTreeClassifier(random_state=0, max_depth=10)\n",
    "clf.fit(X_train, y_train)\n",
    "clf.score(X_train, y_train), clf.score(X_test, y_test)"
   ]
  },
  {
   "cell_type": "code",
   "execution_count": 231,
   "id": "bd22ed0f",
   "metadata": {},
   "outputs": [
    {
     "data": {
      "text/plain": [
       "array([[0.34260797, 0.62167774, 0.02491694, 0.01079734],\n",
       "       [0.01515892, 0.79217604, 0.15207824, 0.0405868 ],\n",
       "       [0.04993598, 0.05633803, 0.45070423, 0.44302177],\n",
       "       [0.01408451, 0.03442879, 0.04225352, 0.90923318]])"
      ]
     },
     "execution_count": 231,
     "metadata": {},
     "output_type": "execute_result"
    }
   ],
   "source": [
    "confusion_matrix(y_test, clf.predict(X_test), normalize='true')"
   ]
  },
  {
   "cell_type": "markdown",
   "id": "917d222e",
   "metadata": {},
   "source": [
    "## Grid Search"
   ]
  },
  {
   "cell_type": "code",
   "execution_count": 171,
   "id": "3ba0d56c",
   "metadata": {},
   "outputs": [
    {
     "data": {
      "text/plain": [
       "{'criterion': 'gini', 'max_depth': 5, 'min_samples_split': 0.01}"
      ]
     },
     "execution_count": 171,
     "metadata": {},
     "output_type": "execute_result"
    }
   ],
   "source": [
    "dt_clf = DecisionTreeClassifier(random_state=0)\n",
    "params = {'criterion': ['gini', 'entropy'],\n",
    "          'max_depth': [1, 2, 3, 4, 5, 6, 7, 8, 9, 10],\n",
    "          'min_samples_split': [0.01, 0.03, 0.05, 0.1, 0.15, 0.2]}\n",
    "\n",
    "clf = GridSearchCV(dt_clf, params, cv=5)\n",
    "search = clf.fit(X_train, y_train)\n",
    "search.best_params_"
   ]
  },
  {
   "cell_type": "code",
   "execution_count": 170,
   "id": "f4f86710",
   "metadata": {},
   "outputs": [
    {
     "data": {
      "text/plain": [
       "(0.5724459134615385, 0.575174527498723)"
      ]
     },
     "execution_count": 170,
     "metadata": {},
     "output_type": "execute_result"
    }
   ],
   "source": [
    "dt_clf = DecisionTreeClassifier(random_state=0, criterion='gini', max_depth=5, min_samples_split=0.01)\n",
    "dt_clf.fit(X_train, y_train)\n",
    "dt_clf.score(X_train, y_train), clf.score(X_test, y_test)"
   ]
  },
  {
   "cell_type": "markdown",
   "id": "e4aa1109",
   "metadata": {},
   "source": [
    "# Random Forest"
   ]
  },
  {
   "cell_type": "markdown",
   "id": "b92bada8",
   "metadata": {},
   "source": [
    "## Naive"
   ]
  },
  {
   "cell_type": "code",
   "execution_count": 174,
   "id": "62db65a6",
   "metadata": {},
   "outputs": [
    {
     "data": {
      "text/plain": [
       "(0.5724459134615385, 0.575174527498723)"
      ]
     },
     "execution_count": 174,
     "metadata": {},
     "output_type": "execute_result"
    }
   ],
   "source": [
    "clf = RandomForestClassifier(random_state=0, n_estimators=100)\n",
    "clf.fit(X_train, y_train)\n",
    "clf.score(X_train, y_train), clf.score(X_test, y_test)"
   ]
  },
  {
   "cell_type": "markdown",
   "id": "a0ca7101",
   "metadata": {},
   "source": [
    "## Grid Search"
   ]
  },
  {
   "cell_type": "code",
   "execution_count": 176,
   "id": "6c0385df",
   "metadata": {},
   "outputs": [
    {
     "data": {
      "text/plain": [
       "{'criterion': 'gini',\n",
       " 'max_depth': 6,\n",
       " 'max_features': 'sqrt',\n",
       " 'min_samples_split': 0.03,\n",
       " 'n_estimators': 10}"
      ]
     },
     "execution_count": 176,
     "metadata": {},
     "output_type": "execute_result"
    }
   ],
   "source": [
    "rf_clf = RandomForestClassifier(random_state=0)\n",
    "params = {'criterion': ['gini', 'entropy'],\n",
    "          'max_depth': [1, 2, 3, 4, 5, 6, 7, 8, 9, 10],\n",
    "          'min_samples_split': [0.01, 0.03, 0.05, 0.1, 0.15, 0.2],\n",
    "          'max_features': ['sqrt', 'log2'],\n",
    "          'n_estimators': [10, 30, 50, 70, 100, 130, 150, 170, 200]}\n",
    "\n",
    "clf = GridSearchCV(rf_clf, params, cv=5)\n",
    "search = clf.fit(X_train, y_train)\n",
    "search.best_params_"
   ]
  },
  {
   "cell_type": "code",
   "execution_count": 177,
   "id": "208c4408",
   "metadata": {},
   "outputs": [
    {
     "data": {
      "text/plain": [
       "(0.5723557692307693, 0.5748339860378001)"
      ]
     },
     "execution_count": 177,
     "metadata": {},
     "output_type": "execute_result"
    }
   ],
   "source": [
    "clf = RandomForestClassifier(random_state=0, n_estimators=10, max_features='sqrt', min_samples_split=0.03, max_depth=6, criterion='gini')\n",
    "clf.fit(X_train, y_train)\n",
    "clf.score(X_train, y_train), clf.score(X_test, y_test)"
   ]
  },
  {
   "cell_type": "code",
   "execution_count": null,
   "id": "29341891",
   "metadata": {},
   "outputs": [],
   "source": []
  }
 ],
 "metadata": {
  "kernelspec": {
   "display_name": "Python 3 (ipykernel)",
   "language": "python",
   "name": "python3"
  },
  "language_info": {
   "codemirror_mode": {
    "name": "ipython",
    "version": 3
   },
   "file_extension": ".py",
   "mimetype": "text/x-python",
   "name": "python",
   "nbconvert_exporter": "python",
   "pygments_lexer": "ipython3",
   "version": "3.9.12"
  }
 },
 "nbformat": 4,
 "nbformat_minor": 5
}
